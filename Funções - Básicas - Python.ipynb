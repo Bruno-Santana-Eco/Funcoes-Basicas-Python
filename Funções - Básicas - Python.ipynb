{
 "cells": [
  {
   "cell_type": "markdown",
   "id": "f9eb2358",
   "metadata": {
    "id": "eda5fd7e",
    "scrolled": false
   },
   "source": [
    "## Funções básicas - Python"
   ]
  },
  {
   "cell_type": "markdown",
   "id": "d57f1ce7",
   "metadata": {
    "id": "f7ad2bfc",
    "scrolled": true
   },
   "source": [
    "#### Neste script me atentarei a explicar com detalhes cada função básica do python"
   ]
  },
  {
   "cell_type": "markdown",
   "id": "4f2f8426",
   "metadata": {},
   "source": [
    "### 1) Tipo de entradas e saída de dados"
   ]
  },
  {
   "cell_type": "markdown",
   "id": "93d6ddcb",
   "metadata": {},
   "source": [
    "#### A syntaxe principal de saída do python se chama 'print' ao usa-la com qualquer variável é possível imprimir o resultado, vejamos o famoso exemplo:"
   ]
  },
  {
   "cell_type": "code",
   "execution_count": 1,
   "id": "bc3671b6",
   "metadata": {},
   "outputs": [
    {
     "name": "stdout",
     "output_type": "stream",
     "text": [
      "Olá, Mundo!\n"
     ]
    }
   ],
   "source": [
    "print('Olá, Mundo!')"
   ]
  },
  {
   "cell_type": "markdown",
   "id": "42c82519",
   "metadata": {},
   "source": [
    "#### Podemos fazer também operações básicas:"
   ]
  },
  {
   "cell_type": "code",
   "execution_count": 4,
   "id": "c9cfe19c",
   "metadata": {},
   "outputs": [
    {
     "name": "stdout",
     "output_type": "stream",
     "text": [
      "10\n"
     ]
    }
   ],
   "source": [
    "print(6+4) ##Textos inseridos entre '##' são inseridos como comentários e não afetam o resultado."
   ]
  },
  {
   "cell_type": "markdown",
   "id": "b13568fc",
   "metadata": {},
   "source": [
    "#### Ao inserir no print as aspas transformamos qualquer coisa em texto, veja:"
   ]
  },
  {
   "cell_type": "code",
   "execution_count": 5,
   "id": "3c9080ec",
   "metadata": {
    "scrolled": true
   },
   "outputs": [
    {
     "name": "stdout",
     "output_type": "stream",
     "text": [
      "64\n"
     ]
    }
   ],
   "source": [
    "print('6'+'4')"
   ]
  },
  {
   "cell_type": "markdown",
   "id": "0c47e1f6",
   "metadata": {},
   "source": [
    "#### Desta vez o resultado foi uma junção de duas strings (concatenação) uma com um número 6 e outra com número 4. Se tentarmos somar uma string com um número não dá certo."
   ]
  },
  {
   "cell_type": "code",
   "execution_count": 6,
   "id": "51476aa2",
   "metadata": {
    "scrolled": true
   },
   "outputs": [
    {
     "ename": "TypeError",
     "evalue": "can only concatenate str (not \"int\") to str",
     "output_type": "error",
     "traceback": [
      "\u001b[1;31m---------------------------------------------------------------------------\u001b[0m",
      "\u001b[1;31mTypeError\u001b[0m                                 Traceback (most recent call last)",
      "Input \u001b[1;32mIn [6]\u001b[0m, in \u001b[0;36m<cell line: 1>\u001b[1;34m()\u001b[0m\n\u001b[1;32m----> 1\u001b[0m \u001b[38;5;28mprint\u001b[39m(\u001b[38;5;124;43m'\u001b[39;49m\u001b[38;5;124;43mOlá\u001b[39;49m\u001b[38;5;124;43m'\u001b[39;49m\u001b[38;5;241;43m+\u001b[39;49m\u001b[38;5;241;43m10\u001b[39;49m)\n",
      "\u001b[1;31mTypeError\u001b[0m: can only concatenate str (not \"int\") to str"
     ]
    }
   ],
   "source": [
    "print('Olá'+10)"
   ]
  },
  {
   "cell_type": "markdown",
   "id": "2f498503",
   "metadata": {},
   "source": [
    "#### Mas podemos fazer uma string com o operador de multiplicação:"
   ]
  },
  {
   "cell_type": "code",
   "execution_count": 8,
   "id": "6a521113",
   "metadata": {},
   "outputs": [
    {
     "name": "stdout",
     "output_type": "stream",
     "text": [
      "Olá Olá Olá Olá Olá \n"
     ]
    }
   ],
   "source": [
    "print('Olá '*5)"
   ]
  },
  {
   "cell_type": "markdown",
   "id": "d8212b50",
   "metadata": {},
   "source": [
    "#### É possível atribuir valores as variáveis:"
   ]
  },
  {
   "cell_type": "code",
   "execution_count": 10,
   "id": "277b98ce",
   "metadata": {},
   "outputs": [
    {
     "name": "stdout",
     "output_type": "stream",
     "text": [
      "Bruno\n"
     ]
    }
   ],
   "source": [
    "nome = \"Bruno\"\n",
    "print(nome)"
   ]
  },
  {
   "cell_type": "code",
   "execution_count": 11,
   "id": "4b340390",
   "metadata": {
    "scrolled": true
   },
   "outputs": [
    {
     "name": "stdout",
     "output_type": "stream",
     "text": [
      "100\n"
     ]
    }
   ],
   "source": [
    "n = 10\n",
    "print(n**2) #exponenciação"
   ]
  },
  {
   "cell_type": "markdown",
   "id": "1bec7c19",
   "metadata": {},
   "source": [
    "####  Podemos unir também varias variáveis"
   ]
  },
  {
   "cell_type": "code",
   "execution_count": 24,
   "id": "1917ba54",
   "metadata": {},
   "outputs": [
    {
     "name": "stdout",
     "output_type": "stream",
     "text": [
      "Bruno Santana possui 1.74 metros de altura\n"
     ]
    }
   ],
   "source": [
    "nome = \"Bruno\"\n",
    "sobrenome = \"Santana\"\n",
    "altura = 1.74\n",
    "\n",
    "print(nome, sobrenome,\"possui\", altura, \"metros de altura\") #podemos inserir strings para complementar a impressão."
   ]
  },
  {
   "cell_type": "markdown",
   "id": "a8aa9d46",
   "metadata": {},
   "source": [
    "#### Futuramente podemos fazer códigos para coletar dados de clientes ou outras variáveis e armazená-los em listas, dicionários ou tuplas. E também podemos alterar o resultado para o padrão brasileiro de decimais com vírgulas."
   ]
  },
  {
   "cell_type": "markdown",
   "id": "69fad9b3",
   "metadata": {},
   "source": [
    "### Outras entradas:\n",
    "\n",
    "#### Uma outra entrada é a função input() que em Python é utilizada para receber dados do usuário. Ela espera uma entrada de dados do usuário e retorna uma string com os dados digitados com input() podemos inserir os dados que quisermos para preencher, ou seja deixando um programa pronto, basta inserir as variáveis que ele realizará a tarefa. Veja o exemplo:"
   ]
  },
  {
   "cell_type": "code",
   "execution_count": 27,
   "id": "ba131789",
   "metadata": {
    "scrolled": true
   },
   "outputs": [
    {
     "name": "stdout",
     "output_type": "stream",
     "text": [
      "Qual é o seu nome? Bruno\n",
      "Qual é o seu sobrenome? Santana\n",
      "Qual é sua altura? 1.74\n",
      "Bruno Santana possui 1.74 metros de altura\n"
     ]
    }
   ],
   "source": [
    "nome = input('Qual é o seu nome? ')\n",
    "sobrenome = input('Qual é o seu sobrenome? ')\n",
    "altura = input('Qual é sua altura? ')\n",
    "\n",
    "print(nome, sobrenome,\"possui\", altura, \"metros de altura\")"
   ]
  },
  {
   "cell_type": "markdown",
   "id": "633cbec1",
   "metadata": {},
   "source": [
    "#### O resultado acima foram as respostas que digitei. Só que precisamos entender que todos resultados são strings, se tentarmos somar dois números ele será concatenado e não somado. Observe:"
   ]
  },
  {
   "cell_type": "code",
   "execution_count": 34,
   "id": "ea118ad0",
   "metadata": {},
   "outputs": [
    {
     "name": "stdout",
     "output_type": "stream",
     "text": [
      "Digite um número: 5\n",
      "Digite um número: 2\n",
      "a soma é 52\n"
     ]
    }
   ],
   "source": [
    "num1 = input('Digite um número: ')\n",
    "num2 = input('Digite um número: ')\n",
    "soma =  num1 + num2\n",
    "print('a soma é', soma) #claramente errado"
   ]
  },
  {
   "cell_type": "markdown",
   "id": "e3b359a5",
   "metadata": {},
   "source": [
    "#### Para solucionar esse problema devemos colocar um tipo primitivo na variáveis antes do input, no nosso caso queremos um número, então podemos somente inserir as variáveis inteiros (int) variáveis inteiras que representam números inteiros, positivos ou negativos, sem decimais e as variáveis Floats (float) que são variáveis que representam números com casas decimais. Observe agora o problema sendo resolvido:"
   ]
  },
  {
   "cell_type": "code",
   "execution_count": 35,
   "id": "9ace848b",
   "metadata": {},
   "outputs": [
    {
     "name": "stdout",
     "output_type": "stream",
     "text": [
      "Digite um número: 5\n",
      "Digite um número: 2\n",
      "a soma é 7\n"
     ]
    }
   ],
   "source": [
    "num1 = int(input('Digite um número: '))\n",
    "num2 = int(input('Digite um número: '))\n",
    "soma =  num1 + num2\n",
    "print('a soma é', soma) "
   ]
  },
  {
   "cell_type": "markdown",
   "id": "ad791df3",
   "metadata": {},
   "source": [
    "#### Um outro tipo de variável é a booleanos que apresenta se determinados valores são verdadeiros ou falso, por exemplo:"
   ]
  },
  {
   "cell_type": "code",
   "execution_count": 47,
   "id": "218b63b0",
   "metadata": {},
   "outputs": [
    {
     "name": "stdout",
     "output_type": "stream",
     "text": [
      "Digite um número: 5\n",
      "Digite um número: 5\n"
     ]
    },
    {
     "data": {
      "text/plain": [
       "True"
      ]
     },
     "execution_count": 47,
     "metadata": {},
     "output_type": "execute_result"
    }
   ],
   "source": [
    "a = int(input('Digite um número: '))\n",
    "b = int(input('Digite um número: '))\n",
    "\n",
    "a == b #a é igual a b?\n",
    "\n"
   ]
  },
  {
   "cell_type": "markdown",
   "id": "58fd979e",
   "metadata": {},
   "source": [
    "#### Ela irá retornar TRUE para se for verdadeiro a comparação ou FALSE caso contrário. Pode-se usar mais exemplos."
   ]
  },
  {
   "cell_type": "code",
   "execution_count": 54,
   "id": "a5aa055e",
   "metadata": {
    "scrolled": false
   },
   "outputs": [
    {
     "name": "stdout",
     "output_type": "stream",
     "text": [
      "Digite um número: 5\n",
      "Digite um número: 6\n",
      "False\n",
      "True\n",
      "True\n"
     ]
    }
   ],
   "source": [
    "a = int(input('Digite um número: '))\n",
    "b = int(input('Digite um número: '))\n",
    "\n",
    "primeira = a > b #a é maior que b?\n",
    "segunda = a <= b #a é menor igual que b?\n",
    "terceira = a != b #a é diferente de b?\n",
    "\n",
    "print(primeira)\n",
    "print(segunda)\n",
    "print(terceira)"
   ]
  },
  {
   "cell_type": "markdown",
   "id": "731c7926",
   "metadata": {},
   "source": [
    "#### Outro tipo de função que retorna booleano são essas:"
   ]
  },
  {
   "cell_type": "code",
   "execution_count": 62,
   "id": "b9aae8cb",
   "metadata": {
    "scrolled": true
   },
   "outputs": [
    {
     "name": "stdout",
     "output_type": "stream",
     "text": [
      "Digite algo: 5a\n",
      "False\n",
      "False\n",
      "True\n"
     ]
    }
   ],
   "source": [
    "n=input(\"Digite algo: \")\n",
    "print(n.isnumeric()) # Verificar se o n é numerico\n",
    "print(n.isalpha()) #Verificar se o n é afalbeto\n",
    "print(n.isalnum()) #verificar se n é alfanumerico\n",
    "\n"
   ]
  },
  {
   "cell_type": "code",
   "execution_count": null,
   "id": "fd46a3a5",
   "metadata": {},
   "outputs": [],
   "source": [
    "print(n.is()) #Após digitar esse comando ao apertar tab é possível ver todos tipos de verificação"
   ]
  },
  {
   "cell_type": "markdown",
   "id": "6a911f9e",
   "metadata": {},
   "source": [
    "#### Foi usado a variável string em diversos momentos, mas iremos dissecar essa variável mais a frente. Também listas, tuplas e dicionários."
   ]
  },
  {
   "cell_type": "markdown",
   "id": "7a8d34db",
   "metadata": {},
   "source": [
    "## 2) Operadores Aritméticos"
   ]
  },
  {
   "cell_type": "markdown",
   "id": "e0d37663",
   "metadata": {},
   "source": [
    "### Os operadores artiméticos não são dificéis de entender, funcionam da mesma maneira que uma calculadora ou suas respectivas regras matemáticas.  A seguir, são descritos os principais operadores aritméticos em Python:\n",
    "\n",
    "* Adição (+): utilizado para somar valores.\n",
    "* Subtração (-): utilizado para subtrair valores.\n",
    "* Multiplicação (*): utilizado para multiplicar valores.\n",
    "* Divisão (/): utilizado para dividir valores. Retorna um número de ponto flutuante.\n",
    "* Divisão inteira (//): retorna o resultado da divisão com o resultado inteiro, sem arredondamento.\n",
    "* Resto da divisão (%): retorna o resto da divisão.\n",
    "* Potenciação (__**__): utilizado para elevar um número à potência de outro número.\n",
    "\n",
    "### É possível fazer alguns exercícios para colocar em prática as definições."
   ]
  },
  {
   "cell_type": "code",
   "execution_count": 68,
   "id": "2a7b94b7",
   "metadata": {
    "id": "2a7b94b7"
   },
   "outputs": [
    {
     "data": {
      "text/plain": [
       "9"
      ]
     },
     "execution_count": 68,
     "metadata": {},
     "output_type": "execute_result"
    }
   ],
   "source": [
    "7+2"
   ]
  },
  {
   "cell_type": "code",
   "execution_count": 69,
   "id": "a89e50d2",
   "metadata": {},
   "outputs": [
    {
     "data": {
      "text/plain": [
       "5"
      ]
     },
     "execution_count": 69,
     "metadata": {},
     "output_type": "execute_result"
    }
   ],
   "source": [
    "7-2"
   ]
  },
  {
   "cell_type": "code",
   "execution_count": 70,
   "id": "23016b00",
   "metadata": {},
   "outputs": [
    {
     "data": {
      "text/plain": [
       "14"
      ]
     },
     "execution_count": 70,
     "metadata": {},
     "output_type": "execute_result"
    }
   ],
   "source": [
    "7*2"
   ]
  },
  {
   "cell_type": "code",
   "execution_count": 71,
   "id": "ffef1a9c",
   "metadata": {},
   "outputs": [
    {
     "data": {
      "text/plain": [
       "3.5"
      ]
     },
     "execution_count": 71,
     "metadata": {},
     "output_type": "execute_result"
    }
   ],
   "source": [
    "7/2"
   ]
  },
  {
   "cell_type": "code",
   "execution_count": 72,
   "id": "477306a1",
   "metadata": {},
   "outputs": [
    {
     "data": {
      "text/plain": [
       "49"
      ]
     },
     "execution_count": 72,
     "metadata": {},
     "output_type": "execute_result"
    }
   ],
   "source": [
    "7**2"
   ]
  },
  {
   "cell_type": "code",
   "execution_count": 73,
   "id": "e561b6a2",
   "metadata": {},
   "outputs": [
    {
     "data": {
      "text/plain": [
       "3"
      ]
     },
     "execution_count": 73,
     "metadata": {},
     "output_type": "execute_result"
    }
   ],
   "source": [
    "7//2"
   ]
  },
  {
   "cell_type": "code",
   "execution_count": 74,
   "id": "82776e48",
   "metadata": {},
   "outputs": [
    {
     "data": {
      "text/plain": [
       "1"
      ]
     },
     "execution_count": 74,
     "metadata": {},
     "output_type": "execute_result"
    }
   ],
   "source": [
    "7%2"
   ]
  },
  {
   "cell_type": "code",
   "execution_count": null,
   "id": "b86be297",
   "metadata": {},
   "outputs": [],
   "source": [
    "10-4+2"
   ]
  },
  {
   "cell_type": "code",
   "execution_count": 75,
   "id": "6898d8b6",
   "metadata": {},
   "outputs": [
    {
     "data": {
      "text/plain": [
       "610"
      ]
     },
     "execution_count": 75,
     "metadata": {},
     "output_type": "execute_result"
    }
   ],
   "source": [
    "10+20*30 #ordem de preferência será multiplicação depois a soma"
   ]
  },
  {
   "cell_type": "code",
   "execution_count": 77,
   "id": "8f6cc202",
   "metadata": {
    "id": "8f6cc202"
   },
   "outputs": [
    {
     "data": {
      "text/plain": [
       "2.0"
      ]
     },
     "execution_count": 77,
     "metadata": {},
     "output_type": "execute_result"
    }
   ],
   "source": [
    "(40+20)/30"
   ]
  },
  {
   "cell_type": "code",
   "execution_count": 78,
   "id": "c322cb61",
   "metadata": {
    "id": "c322cb61"
   },
   "outputs": [
    {
     "data": {
      "text/plain": [
       "39377"
      ]
     },
     "execution_count": 78,
     "metadata": {},
     "output_type": "execute_result"
    }
   ],
   "source": [
    "(9**4+2)*6-1"
   ]
  },
  {
   "cell_type": "markdown",
   "id": "d2c7c928",
   "metadata": {
    "id": "3d30c988"
   },
   "source": [
    "#### Por preferência irá ser feito primeiro parenteses ( ), depois exponenciação **, em terceira ordem conjuntamente multiplicação *, divisão /, divisão inteira //, resto da divisão % o último nível de ordem na resolução é soma + e subtração. Tentarei resolver alguns problemas com o que foi aprendido até agora:\n",
    "\n",
    "#### 1) Crie um programa que calcule o aumento de 15% de um salário de R$750,00."
   ]
  },
  {
   "cell_type": "code",
   "execution_count": 79,
   "id": "3a249ce2",
   "metadata": {
    "id": "3a249ce2",
    "scrolled": true
   },
   "outputs": [
    {
     "name": "stdout",
     "output_type": "stream",
     "text": [
      "862.5\n"
     ]
    }
   ],
   "source": [
    "salário = 750\n",
    "aumento = 15/100\n",
    "print(salário +(salário*aumento))"
   ]
  },
  {
   "cell_type": "markdown",
   "id": "94f7392e",
   "metadata": {},
   "source": [
    "#### 2) Dado um número escreva seu antecessor, sucessor, o dobro, o triplo e a raiz quadrada"
   ]
  },
  {
   "cell_type": "code",
   "execution_count": 80,
   "id": "08d761ca",
   "metadata": {
    "id": "08d761ca"
   },
   "outputs": [
    {
     "name": "stdout",
     "output_type": "stream",
     "text": [
      "Digite um número: 5\n",
      "Seu número é 5, seu antecessor é 4 e seu sucessor é 6.\n",
      "O dobro do seu número é 10, o triplo é 15 e a raiz quadrada é 2.236\n"
     ]
    }
   ],
   "source": [
    "n=int(input(\"Digite um número: \"))\n",
    "ant=n-1\n",
    "suc=n+1\n",
    "print(f\"O número é {n}, seu antecessor é {ant} e seu sucessor é {suc}.\")\n",
    "d=n*2\n",
    "t=n*3\n",
    "r=n**(1/2)\n",
    "print(f\"O dobro do seu número é {d}, o triplo é {t} e a raiz quadrada é {r:.3f}\")\n",
    "#colocar esse 'f' é um método da strings que permite colocar as variáveis dentro da string."
   ]
  },
  {
   "cell_type": "markdown",
   "id": "274b5ae5",
   "metadata": {
    "id": "fe0326da"
   },
   "source": [
    "#### 3) Dado notas de alunos calcule a média artimética."
   ]
  },
  {
   "cell_type": "code",
   "execution_count": 1,
   "id": "1aa98354",
   "metadata": {
    "id": "1aa98354"
   },
   "outputs": [
    {
     "name": "stdout",
     "output_type": "stream",
     "text": [
      "Nota aluno: 5\n",
      "Nota aluno: 8\n",
      "Nota aluno: 9\n",
      "Nota aluno: 1\n",
      "Nota aluno: 2\n",
      "Quantidade de alunos: 5\n",
      "A média das notas é: 2.6\n"
     ]
    }
   ],
   "source": [
    "nota1 = float(input(\"Nota aluno: \"))\n",
    "nota2 = float(input(\"Nota aluno: \"))\n",
    "nota3 = float(input(\"Nota aluno: \"))\n",
    "nota4 = float(input(\"Nota aluno: \"))\n",
    "nota5 = float(input(\"Nota aluno: \"))\n",
    "qtd = int(input(\"Quantidade de alunos: \"))\n",
    "\n",
    "m=(nota1 + nota2)/qtd\n",
    "print(\"A média das notas é: {}\".format(m))\n",
    "#funciona de maneira análoga colocar a chaves na string e depois .format(\"inserir a variável aqui\")"
   ]
  },
  {
   "cell_type": "code",
   "execution_count": null,
   "id": "008f4504",
   "metadata": {
    "id": "008f4504"
   },
   "outputs": [],
   "source": [
    "\n"
   ]
  },
  {
   "cell_type": "code",
   "execution_count": null,
   "id": "d1044940",
   "metadata": {
    "id": "d1044940"
   },
   "outputs": [],
   "source": []
  },
  {
   "cell_type": "code",
   "execution_count": null,
   "id": "72f9842c",
   "metadata": {
    "id": "72f9842c"
   },
   "outputs": [],
   "source": []
  },
  {
   "cell_type": "code",
   "execution_count": null,
   "id": "b9907da5",
   "metadata": {
    "id": "b9907da5"
   },
   "outputs": [],
   "source": []
  },
  {
   "cell_type": "code",
   "execution_count": null,
   "id": "9be95351",
   "metadata": {
    "id": "9be95351"
   },
   "outputs": [],
   "source": []
  },
  {
   "cell_type": "code",
   "execution_count": null,
   "id": "778fd2ff",
   "metadata": {
    "id": "778fd2ff"
   },
   "outputs": [],
   "source": []
  },
  {
   "cell_type": "code",
   "execution_count": null,
   "id": "5b2d79b7",
   "metadata": {},
   "outputs": [],
   "source": []
  }
 ],
 "metadata": {
  "colab": {
   "provenance": []
  },
  "kernelspec": {
   "display_name": "Python 3 (ipykernel)",
   "language": "python",
   "name": "python3"
  },
  "language_info": {
   "codemirror_mode": {
    "name": "ipython",
    "version": 3
   },
   "file_extension": ".py",
   "mimetype": "text/x-python",
   "name": "python",
   "nbconvert_exporter": "python",
   "pygments_lexer": "ipython3",
   "version": "3.9.12"
  }
 },
 "nbformat": 4,
 "nbformat_minor": 5
}
