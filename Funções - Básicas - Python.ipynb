{
 "cells": [
  {
   "cell_type": "markdown",
   "id": "de848ae9",
   "metadata": {
    "id": "eda5fd7e",
    "scrolled": false
   },
   "source": [
    "## Funções básicas - Python"
   ]
  },
  {
   "cell_type": "markdown",
   "id": "86e7c4ef",
   "metadata": {
    "id": "f7ad2bfc",
    "scrolled": true
   },
   "source": [
    "#### Neste script me atentarei a explicar com detalhes cada função básica do python"
   ]
  },
  {
   "cell_type": "markdown",
   "id": "15838de3",
   "metadata": {},
   "source": [
    "### 1) Tipo de entradas e saída de dados"
   ]
  },
  {
   "cell_type": "markdown",
   "id": "c6443158",
   "metadata": {},
   "source": [
    "#### A syntaxe principal de saída do python se chama 'print' ao usa-la com qualquer variável é possível imprimir o resultado, vejamos o famoso exemplo:"
   ]
  },
  {
   "cell_type": "code",
   "execution_count": 1,
   "id": "c752bd68",
   "metadata": {},
   "outputs": [
    {
     "name": "stdout",
     "output_type": "stream",
     "text": [
      "Olá, Mundo!\n"
     ]
    }
   ],
   "source": [
    "print('Olá, Mundo!')"
   ]
  },
  {
   "cell_type": "markdown",
   "id": "d4407677",
   "metadata": {},
   "source": [
    "#### Podemos fazer também operações básicas:"
   ]
  },
  {
   "cell_type": "code",
   "execution_count": 4,
   "id": "f44c9cfa",
   "metadata": {},
   "outputs": [
    {
     "name": "stdout",
     "output_type": "stream",
     "text": [
      "10\n"
     ]
    }
   ],
   "source": [
    "print(6+4) ##Textos inseridos entre '##' são inseridos como comentários e não afetam o resultado."
   ]
  },
  {
   "cell_type": "markdown",
   "id": "0e55479f",
   "metadata": {},
   "source": [
    "#### Ao inserir no print as aspas transformamos qualquer coisa em texto, veja:"
   ]
  },
  {
   "cell_type": "code",
   "execution_count": 5,
   "id": "fd699f6b",
   "metadata": {
    "scrolled": true
   },
   "outputs": [
    {
     "name": "stdout",
     "output_type": "stream",
     "text": [
      "64\n"
     ]
    }
   ],
   "source": [
    "print('6'+'4')"
   ]
  },
  {
   "cell_type": "markdown",
   "id": "31ffb6af",
   "metadata": {},
   "source": [
    "#### Desta vez o resultado foi uma junção de duas strings (concatenação) uma com um número 6 e outra com número 4. Se tentarmos somar uma string com um número não dá certo."
   ]
  },
  {
   "cell_type": "code",
   "execution_count": 6,
   "id": "4bfc598a",
   "metadata": {
    "scrolled": true
   },
   "outputs": [
    {
     "ename": "TypeError",
     "evalue": "can only concatenate str (not \"int\") to str",
     "output_type": "error",
     "traceback": [
      "\u001b[1;31m---------------------------------------------------------------------------\u001b[0m",
      "\u001b[1;31mTypeError\u001b[0m                                 Traceback (most recent call last)",
      "Input \u001b[1;32mIn [6]\u001b[0m, in \u001b[0;36m<cell line: 1>\u001b[1;34m()\u001b[0m\n\u001b[1;32m----> 1\u001b[0m \u001b[38;5;28mprint\u001b[39m(\u001b[38;5;124;43m'\u001b[39;49m\u001b[38;5;124;43mOlá\u001b[39;49m\u001b[38;5;124;43m'\u001b[39;49m\u001b[38;5;241;43m+\u001b[39;49m\u001b[38;5;241;43m10\u001b[39;49m)\n",
      "\u001b[1;31mTypeError\u001b[0m: can only concatenate str (not \"int\") to str"
     ]
    }
   ],
   "source": [
    "print('Olá'+10)"
   ]
  },
  {
   "cell_type": "markdown",
   "id": "78e6382e",
   "metadata": {},
   "source": [
    "#### Mas podemos fazer uma string com o operador de multiplicação:"
   ]
  },
  {
   "cell_type": "code",
   "execution_count": 8,
   "id": "e6f7a775",
   "metadata": {},
   "outputs": [
    {
     "name": "stdout",
     "output_type": "stream",
     "text": [
      "Olá Olá Olá Olá Olá \n"
     ]
    }
   ],
   "source": [
    "print('Olá '*5)"
   ]
  },
  {
   "cell_type": "markdown",
   "id": "97ccf6e9",
   "metadata": {},
   "source": [
    "#### É possível atribuir valores as variáveis:"
   ]
  },
  {
   "cell_type": "code",
   "execution_count": 10,
   "id": "cd85536c",
   "metadata": {},
   "outputs": [
    {
     "name": "stdout",
     "output_type": "stream",
     "text": [
      "Bruno\n"
     ]
    }
   ],
   "source": [
    "nome = \"Bruno\"\n",
    "print(nome)"
   ]
  },
  {
   "cell_type": "code",
   "execution_count": 11,
   "id": "55f0d19e",
   "metadata": {
    "scrolled": true
   },
   "outputs": [
    {
     "name": "stdout",
     "output_type": "stream",
     "text": [
      "100\n"
     ]
    }
   ],
   "source": [
    "n = 10\n",
    "print(n**2) #exponenciação"
   ]
  },
  {
   "cell_type": "markdown",
   "id": "ef50220e",
   "metadata": {},
   "source": [
    "####  Podemos unir também varias variáveis"
   ]
  },
  {
   "cell_type": "code",
   "execution_count": 24,
   "id": "94ac9c3a",
   "metadata": {},
   "outputs": [
    {
     "name": "stdout",
     "output_type": "stream",
     "text": [
      "Bruno Santana possui 1.74 metros de altura\n"
     ]
    }
   ],
   "source": [
    "nome = \"Bruno\"\n",
    "sobrenome = \"Santana\"\n",
    "altura = 1.74\n",
    "\n",
    "print(nome, sobrenome,\"possui\", altura, \"metros de altura\") #podemos inserir strings para complementar a impressão."
   ]
  },
  {
   "cell_type": "markdown",
   "id": "80794e47",
   "metadata": {},
   "source": [
    "#### Futuramente podemos fazer códigos para coletar dados de clientes ou outras variáveis e armazená-los em listas, dicionários ou tuplas. E também podemos alterar o resultado para o padrão brasileiro de decimais com vírgulas."
   ]
  },
  {
   "cell_type": "markdown",
   "id": "3b3bfee0",
   "metadata": {},
   "source": [
    "### Outras entradas:\n",
    "\n",
    "#### Uma outra entrada é a função input() que em Python é utilizada para receber dados do usuário. Ela espera uma entrada de dados do usuário e retorna uma string com os dados digitados com input() podemos inserir os dados que quisermos para preencher, ou seja deixando um programa pronto, basta inserir as variáveis que ele realizará a tarefa. Veja o exemplo:"
   ]
  },
  {
   "cell_type": "code",
   "execution_count": 27,
   "id": "f1174965",
   "metadata": {
    "scrolled": true
   },
   "outputs": [
    {
     "name": "stdout",
     "output_type": "stream",
     "text": [
      "Qual é o seu nome? Bruno\n",
      "Qual é o seu sobrenome? Santana\n",
      "Qual é sua altura? 1.74\n",
      "Bruno Santana possui 1.74 metros de altura\n"
     ]
    }
   ],
   "source": [
    "nome = input('Qual é o seu nome? ')\n",
    "sobrenome = input('Qual é o seu sobrenome? ')\n",
    "altura = input('Qual é sua altura? ')\n",
    "\n",
    "print(nome, sobrenome,\"possui\", altura, \"metros de altura\")"
   ]
  },
  {
   "cell_type": "markdown",
   "id": "1cdfe2d3",
   "metadata": {},
   "source": [
    "#### O resultado acima foram as respostas que digitei. Só que precisamos entender que todos resultados são strings, se tentarmos somar dois números ele será concatenado e não somado. Observe:"
   ]
  },
  {
   "cell_type": "code",
   "execution_count": 34,
   "id": "ef93379f",
   "metadata": {},
   "outputs": [
    {
     "name": "stdout",
     "output_type": "stream",
     "text": [
      "Digite um número: 5\n",
      "Digite um número: 2\n",
      "a soma é 52\n"
     ]
    }
   ],
   "source": [
    "num1 = input('Digite um número: ')\n",
    "num2 = input('Digite um número: ')\n",
    "soma =  num1 + num2\n",
    "print('a soma é', soma) #claramente errado"
   ]
  },
  {
   "cell_type": "markdown",
   "id": "139d4b87",
   "metadata": {},
   "source": [
    "#### Para solucionar esse problema devemos colocar um tipo primitivo na variáveis antes do input, no nosso caso queremos um número, então podemos somente inserir as variáveis inteiros (int) variáveis inteiras que representam números inteiros, positivos ou negativos, sem decimais e as variáveis Floats (float) que são variáveis que representam números com casas decimais. Observe agora o problema sendo resolvido:"
   ]
  },
  {
   "cell_type": "code",
   "execution_count": 35,
   "id": "8c7cd217",
   "metadata": {},
   "outputs": [
    {
     "name": "stdout",
     "output_type": "stream",
     "text": [
      "Digite um número: 5\n",
      "Digite um número: 2\n",
      "a soma é 7\n"
     ]
    }
   ],
   "source": [
    "num1 = int(input('Digite um número: '))\n",
    "num2 = int(input('Digite um número: '))\n",
    "soma =  num1 + num2\n",
    "print('a soma é', soma) "
   ]
  },
  {
   "cell_type": "markdown",
   "id": "c7854bb1",
   "metadata": {},
   "source": [
    "#### Um outro tipo de variável é a booleanos que apresenta se determinados valores são verdadeiros ou falso, por exemplo:"
   ]
  },
  {
   "cell_type": "code",
   "execution_count": 47,
   "id": "ff66b627",
   "metadata": {},
   "outputs": [
    {
     "name": "stdout",
     "output_type": "stream",
     "text": [
      "Digite um número: 5\n",
      "Digite um número: 5\n"
     ]
    },
    {
     "data": {
      "text/plain": [
       "True"
      ]
     },
     "execution_count": 47,
     "metadata": {},
     "output_type": "execute_result"
    }
   ],
   "source": [
    "a = int(input('Digite um número: '))\n",
    "b = int(input('Digite um número: '))\n",
    "\n",
    "a == b #a é igual a b?\n",
    "\n"
   ]
  },
  {
   "cell_type": "markdown",
   "id": "fe5172f3",
   "metadata": {},
   "source": [
    "#### Ela irá retornar TRUE para se for verdadeiro a comparação ou FALSE caso contrário. Pode-se usar mais exemplos."
   ]
  },
  {
   "cell_type": "code",
   "execution_count": 54,
   "id": "c33b45b5",
   "metadata": {
    "scrolled": false
   },
   "outputs": [
    {
     "name": "stdout",
     "output_type": "stream",
     "text": [
      "Digite um número: 5\n",
      "Digite um número: 6\n",
      "False\n",
      "True\n",
      "True\n"
     ]
    }
   ],
   "source": [
    "a = int(input('Digite um número: '))\n",
    "b = int(input('Digite um número: '))\n",
    "\n",
    "primeira = a > b #a é maior que b?\n",
    "segunda = a <= b #a é menor igual que b?\n",
    "terceira = a != b #a é diferente de b?\n",
    "\n",
    "print(primeira)\n",
    "print(segunda)\n",
    "print(terceira)"
   ]
  },
  {
   "cell_type": "markdown",
   "id": "c83d04ac",
   "metadata": {},
   "source": [
    "#### Outro tipo de função que retorna booleano são essas:"
   ]
  },
  {
   "cell_type": "code",
   "execution_count": 62,
   "id": "30bbfa36",
   "metadata": {
    "scrolled": true
   },
   "outputs": [
    {
     "name": "stdout",
     "output_type": "stream",
     "text": [
      "Digite algo: 5a\n",
      "False\n",
      "False\n",
      "True\n"
     ]
    }
   ],
   "source": [
    "n=input(\"Digite algo: \")\n",
    "print(n.isnumeric()) # Verificar se o n é numerico\n",
    "print(n.isalpha()) #Verificar se o n é afalbeto\n",
    "print(n.isalnum()) #verificar se n é alfanumerico\n",
    "\n"
   ]
  },
  {
   "cell_type": "code",
   "execution_count": null,
   "id": "49302a09",
   "metadata": {},
   "outputs": [],
   "source": [
    "print(n.is()) #Após digitar esse comando ao apertar tab é possível ver todos tipos de verificação"
   ]
  },
  {
   "cell_type": "markdown",
   "id": "482a980b",
   "metadata": {},
   "source": [
    "#### Foi usado a variável string em diversos momentos, mas iremos dissecar essa variável mais a frente. Também listas, tuplas e dicionários."
   ]
  },
  {
   "cell_type": "markdown",
   "id": "ddc0810a",
   "metadata": {},
   "source": [
    "## 2) Operadores Aritméticos"
   ]
  },
  {
   "cell_type": "code",
   "execution_count": 3,
   "id": "2a7b94b7",
   "metadata": {
    "id": "2a7b94b7"
   },
   "outputs": [
    {
     "data": {
      "text/plain": [
       "2.5"
      ]
     },
     "execution_count": 3,
     "metadata": {},
     "output_type": "execute_result"
    }
   ],
   "source": [
    "5/2"
   ]
  },
  {
   "cell_type": "code",
   "execution_count": null,
   "id": "8f6cc202",
   "metadata": {
    "id": "8f6cc202"
   },
   "outputs": [],
   "source": [
    "5//2"
   ]
  },
  {
   "cell_type": "code",
   "execution_count": null,
   "id": "c322cb61",
   "metadata": {
    "id": "c322cb61"
   },
   "outputs": [],
   "source": [
    "print('oi')"
   ]
  },
  {
   "cell_type": "code",
   "execution_count": null,
   "id": "3d30c988",
   "metadata": {
    "id": "3d30c988"
   },
   "outputs": [],
   "source": [
    "2+3"
   ]
  },
  {
   "cell_type": "code",
   "execution_count": null,
   "id": "3a249ce2",
   "metadata": {
    "id": "3a249ce2"
   },
   "outputs": [],
   "source": [
    "10-4+2"
   ]
  },
  {
   "cell_type": "code",
   "execution_count": null,
   "id": "08d761ca",
   "metadata": {
    "id": "08d761ca"
   },
   "outputs": [],
   "source": [
    "2**3 #exponenciação#"
   ]
  },
  {
   "cell_type": "code",
   "execution_count": null,
   "id": "fe0326da",
   "metadata": {
    "id": "fe0326da"
   },
   "outputs": [],
   "source": [
    "10%3 #divide e mostra o resto#"
   ]
  },
  {
   "cell_type": "code",
   "execution_count": null,
   "id": "1aa98354",
   "metadata": {
    "id": "1aa98354"
   },
   "outputs": [],
   "source": [
    "10+20*30"
   ]
  },
  {
   "cell_type": "code",
   "execution_count": null,
   "id": "008f4504",
   "metadata": {
    "id": "008f4504"
   },
   "outputs": [],
   "source": [
    "(4**2)/30"
   ]
  },
  {
   "cell_type": "code",
   "execution_count": null,
   "id": "d1044940",
   "metadata": {
    "id": "d1044940"
   },
   "outputs": [],
   "source": [
    "(9**4+2)*6-1"
   ]
  },
  {
   "cell_type": "code",
   "execution_count": null,
   "id": "72f9842c",
   "metadata": {
    "id": "72f9842c"
   },
   "outputs": [],
   "source": [
    "a=2\n",
    "b=3\n",
    "print(a+b)"
   ]
  },
  {
   "cell_type": "code",
   "execution_count": null,
   "id": "b9907da5",
   "metadata": {
    "id": "b9907da5"
   },
   "outputs": [],
   "source": [
    "salário = 750\n",
    "aumento = 15/100\n",
    "print(salário +(salário*aumento))"
   ]
  },
  {
   "cell_type": "code",
   "execution_count": null,
   "id": "9be95351",
   "metadata": {
    "id": "9be95351"
   },
   "outputs": [],
   "source": [
    "print(\"Bruno Santana Bezerra\")"
   ]
  },
  {
   "cell_type": "code",
   "execution_count": null,
   "id": "778fd2ff",
   "metadata": {
    "id": "778fd2ff"
   },
   "outputs": [],
   "source": [
    "a=3\n",
    "b=5\n",
    "print(2*a * 3*b)"
   ]
  },
  {
   "cell_type": "code",
   "execution_count": null,
   "id": "5b2d79b7",
   "metadata": {},
   "outputs": [],
   "source": []
  }
 ],
 "metadata": {
  "colab": {
   "provenance": []
  },
  "kernelspec": {
   "display_name": "Python 3 (ipykernel)",
   "language": "python",
   "name": "python3"
  },
  "language_info": {
   "codemirror_mode": {
    "name": "ipython",
    "version": 3
   },
   "file_extension": ".py",
   "mimetype": "text/x-python",
   "name": "python",
   "nbconvert_exporter": "python",
   "pygments_lexer": "ipython3",
   "version": "3.9.12"
  }
 },
 "nbformat": 4,
 "nbformat_minor": 5
}
