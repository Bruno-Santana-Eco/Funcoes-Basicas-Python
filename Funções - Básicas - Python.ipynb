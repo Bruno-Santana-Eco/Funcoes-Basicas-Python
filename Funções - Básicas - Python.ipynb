{
 "cells": [
  {
   "cell_type": "markdown",
   "id": "f9eb2358",
   "metadata": {
    "id": "eda5fd7e",
    "scrolled": false
   },
   "source": [
    "## Funções básicas - Python"
   ]
  },
  {
   "cell_type": "markdown",
   "id": "d57f1ce7",
   "metadata": {
    "id": "f7ad2bfc",
    "scrolled": true
   },
   "source": [
    "#### Neste script me atentarei a explicar com detalhes cada função básica do python"
   ]
  },
  {
   "cell_type": "markdown",
   "id": "4f2f8426",
   "metadata": {},
   "source": [
    "### 1) Tipo de entradas e saída de dados"
   ]
  },
  {
   "cell_type": "markdown",
   "id": "93d6ddcb",
   "metadata": {},
   "source": [
    "#### A syntaxe principal de saída do python se chama 'print' ao usa-la com qualquer variável é possível imprimir o resultado, vejamos o famoso exemplo:"
   ]
  },
  {
   "cell_type": "code",
   "execution_count": 1,
   "id": "bc3671b6",
   "metadata": {},
   "outputs": [
    {
     "name": "stdout",
     "output_type": "stream",
     "text": [
      "Olá, Mundo!\n"
     ]
    }
   ],
   "source": [
    "print('Olá, Mundo!')"
   ]
  },
  {
   "cell_type": "markdown",
   "id": "42c82519",
   "metadata": {},
   "source": [
    "#### Podemos fazer também operações básicas:"
   ]
  },
  {
   "cell_type": "code",
   "execution_count": 4,
   "id": "c9cfe19c",
   "metadata": {},
   "outputs": [
    {
     "name": "stdout",
     "output_type": "stream",
     "text": [
      "10\n"
     ]
    }
   ],
   "source": [
    "print(6+4) #Textos inseridos entre '#' são inseridos como comentários e não afetam o resultado."
   ]
  },
  {
   "cell_type": "markdown",
   "id": "b13568fc",
   "metadata": {},
   "source": [
    "#### Ao inserir no print as aspas transformamos qualquer coisa em texto, veja:"
   ]
  },
  {
   "cell_type": "code",
   "execution_count": 5,
   "id": "3c9080ec",
   "metadata": {
    "scrolled": true
   },
   "outputs": [
    {
     "name": "stdout",
     "output_type": "stream",
     "text": [
      "64\n"
     ]
    }
   ],
   "source": [
    "print('6'+'4')"
   ]
  },
  {
   "cell_type": "markdown",
   "id": "0c47e1f6",
   "metadata": {},
   "source": [
    "#### Desta vez o resultado foi uma junção de duas strings (concatenação) uma com um número 6 e outra com número 4. Se tentarmos somar uma string com um número não dá certo."
   ]
  },
  {
   "cell_type": "code",
   "execution_count": 6,
   "id": "51476aa2",
   "metadata": {
    "scrolled": true
   },
   "outputs": [
    {
     "ename": "TypeError",
     "evalue": "can only concatenate str (not \"int\") to str",
     "output_type": "error",
     "traceback": [
      "\u001b[1;31m---------------------------------------------------------------------------\u001b[0m",
      "\u001b[1;31mTypeError\u001b[0m                                 Traceback (most recent call last)",
      "Input \u001b[1;32mIn [6]\u001b[0m, in \u001b[0;36m<cell line: 1>\u001b[1;34m()\u001b[0m\n\u001b[1;32m----> 1\u001b[0m \u001b[38;5;28mprint\u001b[39m(\u001b[38;5;124;43m'\u001b[39;49m\u001b[38;5;124;43mOlá\u001b[39;49m\u001b[38;5;124;43m'\u001b[39;49m\u001b[38;5;241;43m+\u001b[39;49m\u001b[38;5;241;43m10\u001b[39;49m)\n",
      "\u001b[1;31mTypeError\u001b[0m: can only concatenate str (not \"int\") to str"
     ]
    }
   ],
   "source": [
    "print('Olá'+10)"
   ]
  },
  {
   "cell_type": "markdown",
   "id": "2f498503",
   "metadata": {},
   "source": [
    "#### Mas podemos fazer uma string com o operador de multiplicação:"
   ]
  },
  {
   "cell_type": "code",
   "execution_count": 8,
   "id": "6a521113",
   "metadata": {},
   "outputs": [
    {
     "name": "stdout",
     "output_type": "stream",
     "text": [
      "Olá Olá Olá Olá Olá \n"
     ]
    }
   ],
   "source": [
    "print('Olá '*5)"
   ]
  },
  {
   "cell_type": "markdown",
   "id": "d8212b50",
   "metadata": {},
   "source": [
    "#### É possível atribuir valores as variáveis:"
   ]
  },
  {
   "cell_type": "code",
   "execution_count": 10,
   "id": "277b98ce",
   "metadata": {},
   "outputs": [
    {
     "name": "stdout",
     "output_type": "stream",
     "text": [
      "Bruno\n"
     ]
    }
   ],
   "source": [
    "nome = \"Bruno\"\n",
    "print(nome)"
   ]
  },
  {
   "cell_type": "code",
   "execution_count": 11,
   "id": "4b340390",
   "metadata": {
    "scrolled": true
   },
   "outputs": [
    {
     "name": "stdout",
     "output_type": "stream",
     "text": [
      "100\n"
     ]
    }
   ],
   "source": [
    "n = 10\n",
    "print(n**2) #exponenciação"
   ]
  },
  {
   "cell_type": "markdown",
   "id": "1bec7c19",
   "metadata": {},
   "source": [
    "####  Podemos unir também varias variáveis"
   ]
  },
  {
   "cell_type": "code",
   "execution_count": 24,
   "id": "1917ba54",
   "metadata": {},
   "outputs": [
    {
     "name": "stdout",
     "output_type": "stream",
     "text": [
      "Bruno Santana possui 1.74 metros de altura\n"
     ]
    }
   ],
   "source": [
    "nome = \"Bruno\"\n",
    "sobrenome = \"Santana\"\n",
    "altura = 1.74\n",
    "\n",
    "print(nome, sobrenome,\"possui\", altura, \"metros de altura\") #podemos inserir strings para complementar a impressão."
   ]
  },
  {
   "cell_type": "markdown",
   "id": "a8aa9d46",
   "metadata": {},
   "source": [
    "#### Futuramente podemos fazer códigos para coletar dados de clientes ou outras variáveis e armazená-los em listas, dicionários ou tuplas. E também podemos alterar o resultado para o padrão brasileiro de decimais com vírgulas."
   ]
  },
  {
   "cell_type": "markdown",
   "id": "69fad9b3",
   "metadata": {},
   "source": [
    "### Outras entradas:\n",
    "\n",
    "#### Uma outra entrada é a função input() que em Python é utilizada para receber dados do usuário. Ela espera uma entrada de dados do usuário e retorna uma string com os dados digitados com input() podemos inserir os dados que quisermos para preencher, ou seja deixando um programa pronto, basta inserir as variáveis que ele realizará a tarefa. Veja o exemplo:"
   ]
  },
  {
   "cell_type": "code",
   "execution_count": 27,
   "id": "ba131789",
   "metadata": {
    "scrolled": true
   },
   "outputs": [
    {
     "name": "stdout",
     "output_type": "stream",
     "text": [
      "Qual é o seu nome? Bruno\n",
      "Qual é o seu sobrenome? Santana\n",
      "Qual é sua altura? 1.74\n",
      "Bruno Santana possui 1.74 metros de altura\n"
     ]
    }
   ],
   "source": [
    "nome = input('Qual é o seu nome? ')\n",
    "sobrenome = input('Qual é o seu sobrenome? ')\n",
    "altura = input('Qual é sua altura? ')\n",
    "\n",
    "print(nome, sobrenome,\"possui\", altura, \"metros de altura\")"
   ]
  },
  {
   "cell_type": "markdown",
   "id": "633cbec1",
   "metadata": {},
   "source": [
    "#### O resultado acima foram as respostas que digitei. Só que precisamos entender que todos resultados são strings, se tentarmos somar dois números ele será concatenado e não somado. Observe:"
   ]
  },
  {
   "cell_type": "code",
   "execution_count": 34,
   "id": "ea118ad0",
   "metadata": {},
   "outputs": [
    {
     "name": "stdout",
     "output_type": "stream",
     "text": [
      "Digite um número: 5\n",
      "Digite um número: 2\n",
      "a soma é 52\n"
     ]
    }
   ],
   "source": [
    "num1 = input('Digite um número: ')\n",
    "num2 = input('Digite um número: ')\n",
    "soma =  num1 + num2\n",
    "print('a soma é', soma) #claramente errado"
   ]
  },
  {
   "cell_type": "markdown",
   "id": "e3b359a5",
   "metadata": {},
   "source": [
    "#### Para solucionar esse problema devemos colocar um tipo primitivo na variáveis antes do input, no nosso caso queremos um número, então podemos somente inserir as variáveis inteiros (int) variáveis inteiras que representam números inteiros, positivos ou negativos, sem decimais e as variáveis Floats (float) que são variáveis que representam números com casas decimais. Observe agora o problema sendo resolvido:"
   ]
  },
  {
   "cell_type": "code",
   "execution_count": 35,
   "id": "9ace848b",
   "metadata": {},
   "outputs": [
    {
     "name": "stdout",
     "output_type": "stream",
     "text": [
      "Digite um número: 5\n",
      "Digite um número: 2\n",
      "a soma é 7\n"
     ]
    }
   ],
   "source": [
    "num1 = int(input('Digite um número: '))\n",
    "num2 = int(input('Digite um número: '))\n",
    "soma =  num1 + num2\n",
    "print('a soma é', soma) "
   ]
  },
  {
   "cell_type": "markdown",
   "id": "ad791df3",
   "metadata": {},
   "source": [
    "#### Um outro tipo de variável é a booleanos que apresenta se determinados valores são verdadeiros ou falso, por exemplo:"
   ]
  },
  {
   "cell_type": "code",
   "execution_count": 47,
   "id": "218b63b0",
   "metadata": {},
   "outputs": [
    {
     "name": "stdout",
     "output_type": "stream",
     "text": [
      "Digite um número: 5\n",
      "Digite um número: 5\n"
     ]
    },
    {
     "data": {
      "text/plain": [
       "True"
      ]
     },
     "execution_count": 47,
     "metadata": {},
     "output_type": "execute_result"
    }
   ],
   "source": [
    "a = int(input('Digite um número: '))\n",
    "b = int(input('Digite um número: '))\n",
    "\n",
    "a == b #a é igual a b?\n",
    "\n"
   ]
  },
  {
   "cell_type": "markdown",
   "id": "58fd979e",
   "metadata": {},
   "source": [
    "#### Ela irá retornar TRUE para se for verdadeiro a comparação ou FALSE caso contrário. Pode-se usar mais exemplos."
   ]
  },
  {
   "cell_type": "code",
   "execution_count": 54,
   "id": "a5aa055e",
   "metadata": {
    "scrolled": false
   },
   "outputs": [
    {
     "name": "stdout",
     "output_type": "stream",
     "text": [
      "Digite um número: 5\n",
      "Digite um número: 6\n",
      "False\n",
      "True\n",
      "True\n"
     ]
    }
   ],
   "source": [
    "a = int(input('Digite um número: '))\n",
    "b = int(input('Digite um número: '))\n",
    "\n",
    "primeira = a > b #a é maior que b?\n",
    "segunda = a <= b #a é menor igual que b?\n",
    "terceira = a != b #a é diferente de b?\n",
    "\n",
    "print(primeira)\n",
    "print(segunda)\n",
    "print(terceira)"
   ]
  },
  {
   "cell_type": "markdown",
   "id": "731c7926",
   "metadata": {},
   "source": [
    "#### Outro tipo de função que retorna booleano são essas:"
   ]
  },
  {
   "cell_type": "code",
   "execution_count": 62,
   "id": "b9aae8cb",
   "metadata": {
    "scrolled": true
   },
   "outputs": [
    {
     "name": "stdout",
     "output_type": "stream",
     "text": [
      "Digite algo: 5a\n",
      "False\n",
      "False\n",
      "True\n"
     ]
    }
   ],
   "source": [
    "n=input(\"Digite algo: \")\n",
    "print(n.isnumeric()) # Verificar se o n é numerico\n",
    "print(n.isalpha()) #Verificar se o n é afalbeto\n",
    "print(n.isalnum()) #verificar se n é alfanumerico\n",
    "\n"
   ]
  },
  {
   "cell_type": "code",
   "execution_count": null,
   "id": "fd46a3a5",
   "metadata": {},
   "outputs": [],
   "source": [
    "print(n.is()) #Após digitar esse comando ao apertar tab é possível ver todos tipos de verificação"
   ]
  },
  {
   "cell_type": "markdown",
   "id": "6a911f9e",
   "metadata": {},
   "source": [
    "#### Foi usado a variável string em diversos momentos, mas iremos dissecar essa variável mais a frente. Também listas, tuplas e dicionários."
   ]
  },
  {
   "cell_type": "markdown",
   "id": "7a8d34db",
   "metadata": {},
   "source": [
    "## 2) Operadores Aritméticos"
   ]
  },
  {
   "cell_type": "markdown",
   "id": "e0d37663",
   "metadata": {},
   "source": [
    "### Os operadores artiméticos não são dificéis de entender, funcionam da mesma maneira que uma calculadora ou suas respectivas regras matemáticas.  A seguir, são descritos os principais operadores aritméticos em Python:\n",
    "\n",
    "* Adição (+): utilizado para somar valores.\n",
    "* Subtração (-): utilizado para subtrair valores.\n",
    "* Multiplicação (*): utilizado para multiplicar valores.\n",
    "* Divisão (/): utilizado para dividir valores. Retorna um número de ponto flutuante.\n",
    "* Divisão inteira (//): retorna o resultado da divisão com o resultado inteiro, sem arredondamento.\n",
    "* Resto da divisão (%): retorna o resto da divisão.\n",
    "* Potenciação (__**__): utilizado para elevar um número à potência de outro número.\n",
    "\n",
    "### É possível fazer alguns exercícios para colocar em prática as definições."
   ]
  },
  {
   "cell_type": "code",
   "execution_count": 68,
   "id": "2a7b94b7",
   "metadata": {
    "id": "2a7b94b7"
   },
   "outputs": [
    {
     "data": {
      "text/plain": [
       "9"
      ]
     },
     "execution_count": 68,
     "metadata": {},
     "output_type": "execute_result"
    }
   ],
   "source": [
    "7+2"
   ]
  },
  {
   "cell_type": "code",
   "execution_count": 69,
   "id": "a89e50d2",
   "metadata": {},
   "outputs": [
    {
     "data": {
      "text/plain": [
       "5"
      ]
     },
     "execution_count": 69,
     "metadata": {},
     "output_type": "execute_result"
    }
   ],
   "source": [
    "7-2"
   ]
  },
  {
   "cell_type": "code",
   "execution_count": 70,
   "id": "23016b00",
   "metadata": {},
   "outputs": [
    {
     "data": {
      "text/plain": [
       "14"
      ]
     },
     "execution_count": 70,
     "metadata": {},
     "output_type": "execute_result"
    }
   ],
   "source": [
    "7*2"
   ]
  },
  {
   "cell_type": "code",
   "execution_count": 71,
   "id": "ffef1a9c",
   "metadata": {},
   "outputs": [
    {
     "data": {
      "text/plain": [
       "3.5"
      ]
     },
     "execution_count": 71,
     "metadata": {},
     "output_type": "execute_result"
    }
   ],
   "source": [
    "7/2"
   ]
  },
  {
   "cell_type": "code",
   "execution_count": 72,
   "id": "477306a1",
   "metadata": {},
   "outputs": [
    {
     "data": {
      "text/plain": [
       "49"
      ]
     },
     "execution_count": 72,
     "metadata": {},
     "output_type": "execute_result"
    }
   ],
   "source": [
    "7**2"
   ]
  },
  {
   "cell_type": "code",
   "execution_count": 73,
   "id": "e561b6a2",
   "metadata": {},
   "outputs": [
    {
     "data": {
      "text/plain": [
       "3"
      ]
     },
     "execution_count": 73,
     "metadata": {},
     "output_type": "execute_result"
    }
   ],
   "source": [
    "7//2"
   ]
  },
  {
   "cell_type": "code",
   "execution_count": 74,
   "id": "82776e48",
   "metadata": {},
   "outputs": [
    {
     "data": {
      "text/plain": [
       "1"
      ]
     },
     "execution_count": 74,
     "metadata": {},
     "output_type": "execute_result"
    }
   ],
   "source": [
    "7%2"
   ]
  },
  {
   "cell_type": "code",
   "execution_count": null,
   "id": "b86be297",
   "metadata": {},
   "outputs": [],
   "source": [
    "10-4+2"
   ]
  },
  {
   "cell_type": "code",
   "execution_count": 75,
   "id": "6898d8b6",
   "metadata": {},
   "outputs": [
    {
     "data": {
      "text/plain": [
       "610"
      ]
     },
     "execution_count": 75,
     "metadata": {},
     "output_type": "execute_result"
    }
   ],
   "source": [
    "10+20*30 #ordem de preferência será multiplicação depois a soma"
   ]
  },
  {
   "cell_type": "code",
   "execution_count": 77,
   "id": "8f6cc202",
   "metadata": {
    "id": "8f6cc202"
   },
   "outputs": [
    {
     "data": {
      "text/plain": [
       "2.0"
      ]
     },
     "execution_count": 77,
     "metadata": {},
     "output_type": "execute_result"
    }
   ],
   "source": [
    "(40+20)/30"
   ]
  },
  {
   "cell_type": "code",
   "execution_count": 78,
   "id": "c322cb61",
   "metadata": {
    "id": "c322cb61"
   },
   "outputs": [
    {
     "data": {
      "text/plain": [
       "39377"
      ]
     },
     "execution_count": 78,
     "metadata": {},
     "output_type": "execute_result"
    }
   ],
   "source": [
    "(9**4+2)*6-1"
   ]
  },
  {
   "cell_type": "markdown",
   "id": "d2c7c928",
   "metadata": {
    "id": "3d30c988"
   },
   "source": [
    "#### Por preferência irá ser feito primeiro parenteses ( ), depois exponenciação **, em terceira ordem conjuntamente multiplicação *, divisão /, divisão inteira //, resto da divisão % o último nível de ordem na resolução é soma + e subtração. Tentarei resolver alguns problemas com o que foi aprendido até agora:\n",
    "\n",
    "#### 1º) Crie um programa que calcule o aumento de 15% de um salário de R$750,00."
   ]
  },
  {
   "cell_type": "code",
   "execution_count": 79,
   "id": "3a249ce2",
   "metadata": {
    "id": "3a249ce2",
    "scrolled": true
   },
   "outputs": [
    {
     "name": "stdout",
     "output_type": "stream",
     "text": [
      "862.5\n"
     ]
    }
   ],
   "source": [
    "salário = 750\n",
    "aumento = 15/100\n",
    "print(salário +(salário*aumento))"
   ]
  },
  {
   "cell_type": "markdown",
   "id": "94f7392e",
   "metadata": {},
   "source": [
    "#### 2º) Dado um número escreva seu antecessor, sucessor, o dobro, o triplo e a raiz quadrada"
   ]
  },
  {
   "cell_type": "code",
   "execution_count": 80,
   "id": "08d761ca",
   "metadata": {
    "id": "08d761ca"
   },
   "outputs": [
    {
     "name": "stdout",
     "output_type": "stream",
     "text": [
      "Digite um número: 5\n",
      "Seu número é 5, seu antecessor é 4 e seu sucessor é 6.\n",
      "O dobro do seu número é 10, o triplo é 15 e a raiz quadrada é 2.236\n"
     ]
    }
   ],
   "source": [
    "n=int(input(\"Digite um número: \"))\n",
    "ant=n-1\n",
    "suc=n+1\n",
    "print(f\"O número é {n}, seu antecessor é {ant} e seu sucessor é {suc}.\")\n",
    "d=n*2\n",
    "t=n*3\n",
    "r=n**(1/2)\n",
    "print(f\"O dobro do seu número é {d}, o triplo é {t} e a raiz quadrada é {r:.3f}\")\n",
    "#colocar esse 'f' é um método da strings que permite colocar as variáveis dentro da string."
   ]
  },
  {
   "cell_type": "markdown",
   "id": "274b5ae5",
   "metadata": {
    "id": "fe0326da"
   },
   "source": [
    "#### 3º) Dado notas de alunos calcule a média artimética."
   ]
  },
  {
   "cell_type": "code",
   "execution_count": 1,
   "id": "1aa98354",
   "metadata": {
    "id": "1aa98354"
   },
   "outputs": [
    {
     "name": "stdout",
     "output_type": "stream",
     "text": [
      "Nota aluno: 5\n",
      "Nota aluno: 8\n",
      "Nota aluno: 9\n",
      "Nota aluno: 1\n",
      "Nota aluno: 2\n",
      "Quantidade de alunos: 5\n",
      "A média das notas é: 2.6\n"
     ]
    }
   ],
   "source": [
    "nota1 = float(input(\"Nota aluno: \")) # Ao inserir float é permitido inserir o decimal das notas. É mais fácil de inserir\n",
    "nota2 = float(input(\"Nota aluno: \")) # as notas através do 'input()', quando chegarmos em repetições podemos automatizar\n",
    "nota3 = float(input(\"Nota aluno: \")) # a quantidade de vezes que se insere as notas dos alunos.\n",
    "nota4 = float(input(\"Nota aluno: \"))\n",
    "nota5 = float(input(\"Nota aluno: \"))\n",
    "qtd = int(input(\"Quantidade de alunos: \"))\n",
    "\n",
    "m=(nota1 + nota2)/qtd\n",
    "print(\"A média das notas é: {}\".format(m))\n",
    "#funciona de maneira análoga colocar a chaves na string e depois .format(\"inserir a variável aqui\")"
   ]
  },
  {
   "cell_type": "markdown",
   "id": "5a7d594b",
   "metadata": {
    "id": "008f4504"
   },
   "source": [
    "## 3) Strings"
   ]
  },
  {
   "cell_type": "markdown",
   "id": "e163bc37",
   "metadata": {
    "id": "d1044940"
   },
   "source": [
    "#### Variáveis do tipo string amarzenam cadeias de caracteres como nomes e textos em geral. O que o python faz é inserir cada letra e espaço criado como um bloco ocupando uma posição, ou seja uma string é como uma sequência desses blocos. O conteúdo dessa string será limitado pelo uso das aspas (\") ou (') apóstrofo. É possível fatiar, contar, buscar, concatenar, tornar maiúsculo, minúsculo, tirar espaços como veremos abaixo:"
   ]
  },
  {
   "cell_type": "code",
   "execution_count": 2,
   "id": "72f9842c",
   "metadata": {
    "id": "72f9842c"
   },
   "outputs": [],
   "source": [
    "frase = \"João e Maria comem pão\""
   ]
  },
  {
   "cell_type": "markdown",
   "id": "391b9e6a",
   "metadata": {
    "id": "9be95351"
   },
   "source": [
    "#### Cada bloco tem como início o 0 e vai até onde terminar a palavra, no meu exemplo acima vai do bloco 0 até 21 totalizando 22 blocos."
   ]
  },
  {
   "cell_type": "code",
   "execution_count": 3,
   "id": "b9907da5",
   "metadata": {
    "id": "b9907da5"
   },
   "outputs": [
    {
     "name": "stdout",
     "output_type": "stream",
     "text": [
      "o\n"
     ]
    }
   ],
   "source": [
    "print(frase[21]) #Nesse caso vai plotar a letra que está no bloco 21 que é o 'o'"
   ]
  },
  {
   "attachments": {
    "Exemplos%20string.png": {
     "image/png": "[encoded data removed]"
    }
   },
   "cell_type": "markdown",
   "id": "593effb8",
   "metadata": {
    "id": "778fd2ff"
   },
   "source": [
    "![Exemplos%20string.png](attachment:Exemplos%20string.png)\n"
   ]
  },
  {
   "cell_type": "markdown",
   "id": "6935b296",
   "metadata": {},
   "source": [
    "#### Podemos fatiar e plotar entra o bloco 4 e 13"
   ]
  },
  {
   "cell_type": "code",
   "execution_count": 4,
   "id": "5436d09c",
   "metadata": {},
   "outputs": [
    {
     "name": "stdout",
     "output_type": "stream",
     "text": [
      " e Maria \n"
     ]
    }
   ],
   "source": [
    "print(frase[4:13]) "
   ]
  },
  {
   "cell_type": "markdown",
   "id": "b3646cbb",
   "metadata": {},
   "source": [
    "#### Podemos fatiar e pular de acordo com o intervalo (2)"
   ]
  },
  {
   "cell_type": "code",
   "execution_count": 5,
   "id": "105d24cc",
   "metadata": {},
   "outputs": [
    {
     "name": "stdout",
     "output_type": "stream",
     "text": [
      "Jã  ai \n"
     ]
    }
   ],
   "source": [
    "print(frase[0:13:2])"
   ]
  },
  {
   "cell_type": "markdown",
   "id": "b6bba210",
   "metadata": {},
   "source": [
    "#### Podemos pegar antes do bloco treze"
   ]
  },
  {
   "cell_type": "code",
   "execution_count": 6,
   "id": "7fd737c8",
   "metadata": {},
   "outputs": [
    {
     "name": "stdout",
     "output_type": "stream",
     "text": [
      "João e Maria \n"
     ]
    }
   ],
   "source": [
    "print(frase[:13])"
   ]
  },
  {
   "cell_type": "markdown",
   "id": "8d4866fe",
   "metadata": {},
   "source": [
    "#### E recortar somente saltos no intervalo de três (3)"
   ]
  },
  {
   "cell_type": "code",
   "execution_count": 7,
   "id": "263773c2",
   "metadata": {},
   "outputs": [
    {
     "name": "stdout",
     "output_type": "stream",
     "text": [
      "Jo r m o\n"
     ]
    }
   ],
   "source": [
    "print(frase[::3])"
   ]
  },
  {
   "cell_type": "markdown",
   "id": "b5d70c2a",
   "metadata": {},
   "source": [
    "#### Contando quantas vezes tem um trecho numa frase"
   ]
  },
  {
   "cell_type": "code",
   "execution_count": 8,
   "id": "d86592ec",
   "metadata": {},
   "outputs": [
    {
     "name": "stdout",
     "output_type": "stream",
     "text": [
      "4\n"
     ]
    }
   ],
   "source": [
    "print(frase.count(\"o\")) #No caso usamos o trecho a letra \"o\""
   ]
  },
  {
   "cell_type": "markdown",
   "id": "55646d7d",
   "metadata": {},
   "source": [
    "#### Comprimento da frase"
   ]
  },
  {
   "cell_type": "code",
   "execution_count": 25,
   "id": "b3e1320f",
   "metadata": {},
   "outputs": [
    {
     "name": "stdout",
     "output_type": "stream",
     "text": [
      "22\n"
     ]
    }
   ],
   "source": [
    "print(len(frase))"
   ]
  },
  {
   "cell_type": "markdown",
   "id": "92194952",
   "metadata": {},
   "source": [
    "#### Digamos que exista espaços lateralmente conforme exemplos e queremos retirar esses espaços e contar somente quando inicia o nome, seguimos os seguintes passos. \n"
   ]
  },
  {
   "cell_type": "code",
   "execution_count": 26,
   "id": "24eefad7",
   "metadata": {},
   "outputs": [],
   "source": [
    "frase = \"  João e Maria comem pão\""
   ]
  },
  {
   "cell_type": "code",
   "execution_count": 28,
   "id": "37222777",
   "metadata": {},
   "outputs": [
    {
     "name": "stdout",
     "output_type": "stream",
     "text": [
      "24\n"
     ]
    }
   ],
   "source": [
    "print(len(frase))"
   ]
  },
  {
   "cell_type": "code",
   "execution_count": 27,
   "id": "50ec9035",
   "metadata": {},
   "outputs": [
    {
     "name": "stdout",
     "output_type": "stream",
     "text": [
      "22\n"
     ]
    }
   ],
   "source": [
    "print(len(frase.strip()))"
   ]
  },
  {
   "cell_type": "markdown",
   "id": "6c001bac",
   "metadata": {},
   "source": [
    "#### Perceba que mesmo com mais espaços o tamanho é 24 blocos, mas com o comando strip() retiramos os espaços em branco voltando a ser 22 blocos. Outro comando interessante é alterar os nomes dentro da string."
   ]
  },
  {
   "cell_type": "code",
   "execution_count": 29,
   "id": "33f42692",
   "metadata": {},
   "outputs": [
    {
     "name": "stdout",
     "output_type": "stream",
     "text": [
      "  João e Maria comem pastel\n"
     ]
    }
   ],
   "source": [
    "print(frase.replace(\"pão\",\"pastel\"))"
   ]
  },
  {
   "cell_type": "markdown",
   "id": "df760f59",
   "metadata": {},
   "source": [
    "#### Mas somente utilizar print não altera a variável em si, perceba."
   ]
  },
  {
   "cell_type": "code",
   "execution_count": 30,
   "id": "c49a8404",
   "metadata": {},
   "outputs": [
    {
     "name": "stdout",
     "output_type": "stream",
     "text": [
      "  João e Maria comem pão\n"
     ]
    }
   ],
   "source": [
    "print(frase)"
   ]
  },
  {
   "cell_type": "markdown",
   "id": "cae9b045",
   "metadata": {},
   "source": [
    "#### Para fazer a alteração precisamos alterar a variável."
   ]
  },
  {
   "cell_type": "code",
   "execution_count": 32,
   "id": "67317204",
   "metadata": {},
   "outputs": [
    {
     "name": "stdout",
     "output_type": "stream",
     "text": [
      "  João e Maria comem pastel\n"
     ]
    }
   ],
   "source": [
    "frase = frase.replace(\"pão\",\"pastel\")\n",
    "print(frase)"
   ]
  },
  {
   "cell_type": "markdown",
   "id": "d707a7df",
   "metadata": {},
   "source": [
    "#### É capaz também de procurar dentro da string uma frase específica e o resultado é exatamente o bloco onde inicia a frase desejada."
   ]
  },
  {
   "cell_type": "code",
   "execution_count": 35,
   "id": "b4aa33c3",
   "metadata": {},
   "outputs": [
    {
     "name": "stdout",
     "output_type": "stream",
     "text": [
      "7\n"
     ]
    }
   ],
   "source": [
    "frase = \"João e Maria comem pão\"\n",
    "print(frase.find(\"Maria\"))"
   ]
  },
  {
   "cell_type": "markdown",
   "id": "01df4bcb",
   "metadata": {},
   "source": [
    "#### Um adendo é que se não houver encontrado a frase inserida o resultado será -1."
   ]
  },
  {
   "cell_type": "code",
   "execution_count": 44,
   "id": "3ccb6e37",
   "metadata": {
    "scrolled": true
   },
   "outputs": [
    {
     "data": {
      "text/plain": [
       "-1"
      ]
     },
     "execution_count": 44,
     "metadata": {},
     "output_type": "execute_result"
    }
   ],
   "source": [
    "frase.find(\"feijão\")"
   ]
  },
  {
   "cell_type": "markdown",
   "id": "a75d1ab1",
   "metadata": {},
   "source": [
    "#### Outra maneira de procurar é através do uso da função \"in\" que retornará True caso encontra a frase na string ou False caso contrário."
   ]
  },
  {
   "cell_type": "code",
   "execution_count": 45,
   "id": "a535b96d",
   "metadata": {},
   "outputs": [
    {
     "data": {
      "text/plain": [
       "False"
      ]
     },
     "execution_count": 45,
     "metadata": {},
     "output_type": "execute_result"
    }
   ],
   "source": [
    "\"feijão\" in frase "
   ]
  },
  {
   "cell_type": "markdown",
   "id": "294185ff",
   "metadata": {},
   "source": [
    "#### Aqui podemos dividir a string em outras strings, como uma lista (em breve falaremos mais sobre listas). Então fatiamos a lista, selecionamos a lista 2 (Maria) e a terceira letra da string Maria que é o \"i\"."
   ]
  },
  {
   "cell_type": "code",
   "execution_count": 39,
   "id": "607c7816",
   "metadata": {
    "scrolled": true
   },
   "outputs": [
    {
     "name": "stdout",
     "output_type": "stream",
     "text": [
      "['João', 'e', 'Maria', 'comem', 'pão']\n",
      "i\n"
     ]
    }
   ],
   "source": [
    "dividido = frase.split()\n",
    "print(dividido)\n",
    "print(dividido[2][3]) "
   ]
  },
  {
   "cell_type": "markdown",
   "id": "b716330b",
   "metadata": {},
   "source": [
    "#### É possível unir separadores entre cada bloco, no caso usei \"-\"."
   ]
  },
  {
   "cell_type": "code",
   "execution_count": 40,
   "id": "7ed8da7c",
   "metadata": {},
   "outputs": [
    {
     "data": {
      "text/plain": [
       "'J-o-ã-o- -e- -M-a-r-i-a- -c-o-m-e-m- -p-ã-o'"
      ]
     },
     "execution_count": 40,
     "metadata": {},
     "output_type": "execute_result"
    }
   ],
   "source": [
    "\"-\".join(frase)"
   ]
  },
  {
   "cell_type": "markdown",
   "id": "f3d19ee8",
   "metadata": {},
   "source": [
    "#### Com o comando abaixo fazemos a contagem do trecho que queremos \"o\" dentro do intervalo dado de 0 blocos até 13"
   ]
  },
  {
   "cell_type": "code",
   "execution_count": 42,
   "id": "fb1e4d32",
   "metadata": {},
   "outputs": [
    {
     "name": "stdout",
     "output_type": "stream",
     "text": [
      "2\n"
     ]
    }
   ],
   "source": [
    "print(frase.count(\"o\",0,13))"
   ]
  },
  {
   "cell_type": "markdown",
   "id": "16e1be33",
   "metadata": {},
   "source": [
    "### Abaixo deixarei alguns comando de edição de strings:\n",
    "\n",
    "#### Torna toda string maiúscula."
   ]
  },
  {
   "cell_type": "code",
   "execution_count": 48,
   "id": "533b6e47",
   "metadata": {},
   "outputs": [
    {
     "name": "stdout",
     "output_type": "stream",
     "text": [
      "JOÃO E MARIA COMEM PÃO\n"
     ]
    }
   ],
   "source": [
    "print(frase.upper())"
   ]
  },
  {
   "cell_type": "markdown",
   "id": "cc2a1ae3",
   "metadata": {},
   "source": [
    "#### Deixando toda string minúscula"
   ]
  },
  {
   "cell_type": "code",
   "execution_count": 49,
   "id": "b50c1d89",
   "metadata": {},
   "outputs": [
    {
     "name": "stdout",
     "output_type": "stream",
     "text": [
      "joão e maria comem pão\n"
     ]
    }
   ],
   "source": [
    "print(frase.lower())"
   ]
  },
  {
   "cell_type": "markdown",
   "id": "3e17fb90",
   "metadata": {},
   "source": [
    "#### Só a letra inicial maiúscula."
   ]
  },
  {
   "cell_type": "code",
   "execution_count": 50,
   "id": "176e952f",
   "metadata": {},
   "outputs": [
    {
     "name": "stdout",
     "output_type": "stream",
     "text": [
      "João e maria comem pão\n"
     ]
    }
   ],
   "source": [
    "print(frase.capitalize()) "
   ]
  },
  {
   "cell_type": "markdown",
   "id": "ca8bf60e",
   "metadata": {},
   "source": [
    "#### Todo início de palavra em maiúsculo."
   ]
  },
  {
   "cell_type": "code",
   "execution_count": 52,
   "id": "3e9f3f54",
   "metadata": {},
   "outputs": [
    {
     "name": "stdout",
     "output_type": "stream",
     "text": [
      "João E Maria Comem Pão\n"
     ]
    }
   ],
   "source": [
    "print(frase.title())"
   ]
  },
  {
   "cell_type": "markdown",
   "id": "ac78db91",
   "metadata": {},
   "source": [
    "#### Tira espaços brancos do inícios e fim da string.\n"
   ]
  },
  {
   "cell_type": "code",
   "execution_count": 55,
   "id": "b5185b0a",
   "metadata": {},
   "outputs": [
    {
     "name": "stdout",
     "output_type": "stream",
     "text": [
      "João e Maria comem pão\n",
      "22\n"
     ]
    }
   ],
   "source": [
    "frase = \"   João e Maria comem pão     \"\n",
    "print(frase.strip())\n",
    "print(len(frase.strip()))"
   ]
  },
  {
   "cell_type": "markdown",
   "id": "b713dc97",
   "metadata": {},
   "source": [
    "#### Somente espaços da esquerda da string."
   ]
  },
  {
   "cell_type": "code",
   "execution_count": 56,
   "id": "bac9fc12",
   "metadata": {},
   "outputs": [
    {
     "name": "stdout",
     "output_type": "stream",
     "text": [
      "João e Maria comem pão     \n",
      "27\n"
     ]
    }
   ],
   "source": [
    "frase = \"   João e Maria comem pão     \"\n",
    "print(frase.lstrip())\n",
    "print(len(frase.lstrip()))"
   ]
  },
  {
   "cell_type": "markdown",
   "id": "241f9db9",
   "metadata": {},
   "source": [
    "#### Somente espaços a direita da string."
   ]
  },
  {
   "cell_type": "code",
   "execution_count": 57,
   "id": "cf2d6bdc",
   "metadata": {},
   "outputs": [
    {
     "name": "stdout",
     "output_type": "stream",
     "text": [
      "   João e Maria comem pão\n",
      "25\n"
     ]
    }
   ],
   "source": [
    "frase = \"   João e Maria comem pão     \"\n",
    "print(frase.rstrip())\n",
    "print(len(frase.rstrip()))"
   ]
  },
  {
   "cell_type": "markdown",
   "id": "d4edcbe9",
   "metadata": {},
   "source": [
    "#### Tentarei resolver mais  problemas."
   ]
  },
  {
   "cell_type": "markdown",
   "id": "34ca7688",
   "metadata": {},
   "source": [
    "#### 4º) Criar um programa que leia o nome completo e análise. O intuito deste exercício é mostrar as aplicações no uso das strings."
   ]
  },
  {
   "cell_type": "code",
   "execution_count": 61,
   "id": "793d5125",
   "metadata": {},
   "outputs": [
    {
     "name": "stdout",
     "output_type": "stream",
     "text": [
      "Digite seu nome completo: Bruno Santana Bezerra\n",
      "Analisando seu nome...\n",
      "Seu primeiro nome é Bruno\n",
      "Seu último nome é Bezerra\n",
      "Seu nome em maiúsculas é BRUNO SANTANA BEZERRA\n",
      "Seu nome em minúsculas é bruno santana bezerra\n",
      "Seu nome tem ao todo 19 letras\n",
      "Seu primeiro nome é Bruno e ele tem 5 letras\n"
     ]
    }
   ],
   "source": [
    "n = str(input(\"Digite seu nome completo: \")).strip() #o strip tira os espaços iniciais\n",
    "print(\"Analisando seu nome...\")\n",
    "nome = n.split() #O split divide uma string em outras.\n",
    "print(\"Seu primeiro nome é {}\".format(nome[0])) #Seleciono a primeira string.\n",
    "print(\"Seu último nome é {}\".format(nome[len(nome)-1])) #Seleciono a primeira no sentido do fim par ao início.\n",
    "print(\"Seu nome em maiúsculas é {}\".format(n.upper())) #Todo nome fica maiúsculo.\n",
    "print(\"Seu nome em minúsculas é {}\".format(n.lower())) #Todo nome fica minúsculo.\n",
    "print(\"Seu nome tem ao todo {} letras\".format(len(n) - n.count(\" \"))) # Pedi para contar a extensão total da string e logo\n",
    "# depois subtrai pela contagem de espaços vazios.\n",
    "print(\"Seu primeiro nome é {} e ele tem {} letras\".format(nome[0], len(nome[0])))\n",
    "#Ele seleciona a separação feita pelo split e depois conta a extensão da primeira frase."
   ]
  },
  {
   "cell_type": "markdown",
   "id": "91371c76",
   "metadata": {},
   "source": [
    "#### 5º)  Usualmente durante a inserção de dados usuários inserem espaço no início o que atrapalha o tratamento de dados, como resolver isso com python? Também precisamos fazer contagens de quantas vezes aparece  uma determinada frase numa string."
   ]
  },
  {
   "cell_type": "code",
   "execution_count": 64,
   "id": "d2fc5aa5",
   "metadata": {},
   "outputs": [
    {
     "name": "stdout",
     "output_type": "stream",
     "text": [
      "Digite uma frase:      A dúvida é o princípio da sabedoria\n",
      "A letra A aparece 5 vezes na frase.\n",
      "A primeira letra A apareceu na posição 1\n",
      "A última letra A apareceu na posição 35\n"
     ]
    }
   ],
   "source": [
    "frase = str(input(\"Digite uma frase: \")).upper().strip() #Usa-se upper para posteriormente fazer a contagem de maneira mais\n",
    "#fácil e strip para tirar todos espaços vazios que o usuário inserir\n",
    "print(\"A letra A aparece {} vezes na frase.\".format(frase.count(\"A\")))\n",
    "print(\"A primeira letra A apareceu na posição {}\".format(frase.find(\"A\")+1))\n",
    "# esse +1 é pra tirar a contagem padrão do python que começar a partir do zero\n",
    "print(\"A última letra A apareceu na posição {}\".format(frase.rfind(\"A\")+1))"
   ]
  },
  {
   "cell_type": "markdown",
   "id": "3962da15",
   "metadata": {},
   "source": [
    "## 4) Condições"
   ]
  },
  {
   "cell_type": "markdown",
   "id": "352f5d03",
   "metadata": {},
   "source": [
    "#### As condições servem para selcionar quando queremos que uma parte do programa deve ser ativada e a outra não. A estrutura de decisão para a situação verdadeira chama-se \"if\". Veja:"
   ]
  },
  {
   "cell_type": "code",
   "execution_count": 15,
   "id": "08ebd466",
   "metadata": {},
   "outputs": [
    {
     "name": "stdout",
     "output_type": "stream",
     "text": [
      "Primeiro valor: 6\n",
      "Segundo valor: 5\n",
      "O primeiro número é o maior!\n"
     ]
    }
   ],
   "source": [
    "a=int(input(\"Primeiro valor: \"))\n",
    "b=int(input(\"Segundo valor: \"))\n",
    "if a > b: \n",
    "    print(\"O primeiro número é o maior!\")#A indentação é importante para estrutura de syntaxe do python.\n",
    "if b > a:\n",
    "    print (\"O segundo número é o maior!\")"
   ]
  },
  {
   "cell_type": "markdown",
   "id": "96062ac4",
   "metadata": {},
   "source": [
    "#### Nesse caso o valor a foi maior que b ou seja a primeira estrutura de condição foi atendida e logo foi ativado o comando print. No caso abaixo podemos simplificar inserindo o \"else\" que significa basicamente \"senão\", caso o \"if\" não for atendido, será atendido a estrutura do \"else\". "
   ]
  },
  {
   "cell_type": "code",
   "execution_count": 13,
   "id": "c0cb0727",
   "metadata": {},
   "outputs": [
    {
     "name": "stdout",
     "output_type": "stream",
     "text": [
      "Primeiro valor: 5\n",
      "Segundo valor: 6\n",
      "O segundo número é o maior!\n"
     ]
    }
   ],
   "source": [
    "a=int(input(\"Primeiro valor: \"))\n",
    "b=int(input(\"Segundo valor: \"))\n",
    "if a > b: \n",
    "    print(\"O primeiro número é o maior!\")\n",
    "else:\n",
    "    print (\"O segundo número é o maior!\")"
   ]
  },
  {
   "cell_type": "markdown",
   "id": "c26939aa",
   "metadata": {},
   "source": [
    "#### Para múltiplos aninhamentos o python tem um comando chamado \"elif\", ela serve para inserir mais condições na estrutura. por exemplo, imagine ter classificado produtos e cada classificação gera um preço, poderiamos resolver dessa forma:"
   ]
  },
  {
   "cell_type": "code",
   "execution_count": 13,
   "id": "da23db40",
   "metadata": {},
   "outputs": [
    {
     "name": "stdout",
     "output_type": "stream",
     "text": [
      "Digite a categoria do produto: 5\n",
      "O preço do produto é: R$31.00\n"
     ]
    }
   ],
   "source": [
    "categoria = int(input(\"Digite a categoria do produto: \"))\n",
    "if categoria ==1: # '==' significa uma condição de igualdade, se a categoria for igual a 1 roda o programa.\n",
    "    preço=10\n",
    "elif categoria ==2:\n",
    "    preço=18\n",
    "elif categoria ==3:\n",
    "    preço=23\n",
    "elif categoria ==4:\n",
    "    preço= 26\n",
    "elif categoria ==5:\n",
    "    preço = 31\n",
    "else:\n",
    "    print(\"Categoria inválida, digite um valor entre 1 e 5!\")\n",
    "    preço=0\n",
    "print(f\"O preço do produto é: R${preço:3.2f}\") #funciona de maneira análoga ao .format(\"inserir a variável aqui\") mas agora inserimos um 'f' no início e a varíavel dentro das {}.\n",
    "# O 3 significa que irá ser impresso com 3 caracteres de distância no total, o 2 significa arredondamento para duas casas  decimais e o 'f' no fim signfica que será ponto flutuante. "
   ]
  },
  {
   "cell_type": "markdown",
   "id": "5d775d6c",
   "metadata": {},
   "source": [
    "#### Acredito que a melhor forma de explicar condicionamento é fazendo exercícios, pois permitirá ver as diversas aplicações. "
   ]
  },
  {
   "cell_type": "markdown",
   "id": "a185ecc5",
   "metadata": {},
   "source": [
    "#### 6º) Um programa de aprovação de empréstimo bancário para compra de uma casa. Perguntar o salário e o valor dor da casa, a prestação do empréstimo não pode ser superior a 30% do salário."
   ]
  },
  {
   "cell_type": "code",
   "execution_count": 10,
   "id": "22759ebf",
   "metadata": {
    "scrolled": true
   },
   "outputs": [
    {
     "name": "stdout",
     "output_type": "stream",
     "text": [
      "Digite o valor da casa: 100000\n",
      "Digite o valor do salário: 3000\n",
      "Digite o anos para pagar: 20\n",
      "Prestação aprovada, abaixo do limite pré-aprovado de 900.00\n",
      "A prestação será de: R$416.67\n"
     ]
    }
   ],
   "source": [
    "Valorcasa=float(input(\"Digite o valor da casa: \"))\n",
    "Salário= float(input(\"Digite o valor do salário: \"))\n",
    "Anospagar=float(input(\"Digite o anos para pagar: \"))\n",
    "\n",
    "prestação=Valorcasa/Anospagar\n",
    "prestaçãomensal=prestação/12\n",
    "limite=0.3*Salário #Insiro o limite dado pela questão.\n",
    "if prestaçãomensal < limite: #E condiciono.\n",
    "    print(\"Prestação aprovada, abaixo do limite pré-aprovado de {:3.2f}\".format(limite))\n",
    "else:\n",
    "    print(f\"Prestação não aprovada, superior ao limite pré-aprovado de {limite:3.2f}\")\n",
    "print(f\"A prestação será de: R${prestaçãomensal:3.2f}\")"
   ]
  },
  {
   "cell_type": "markdown",
   "id": "ee359858",
   "metadata": {},
   "source": [
    "#### 7º) Criar um programa que leia um número e diga se ele é par ou ímpar."
   ]
  },
  {
   "cell_type": "code",
   "execution_count": 30,
   "id": "41ad8c7f",
   "metadata": {},
   "outputs": [
    {
     "name": "stdout",
     "output_type": "stream",
     "text": [
      "Me diga um número: 7\n",
      "O número 7 é Ímpar\n"
     ]
    }
   ],
   "source": [
    "n = int(input(\"Me diga um número: \"))\n",
    "resultado = n % 2 #Qualquer número divisível por 2 e ter o resto 0 será par.\n",
    "if resultado == 0:\n",
    "    print(\"O número {} é Par\".format(n))\n",
    "else: #Caso contrário será ímpar.\n",
    "    print(\"O número {} é Ímpar\".format(n))\n"
   ]
  },
  {
   "cell_type": "markdown",
   "id": "6ad59153",
   "metadata": {},
   "source": [
    "#### 8º) Um programa que calcule o valor a ser pago por um produto.\n",
    "#### Condições de pagamento:\n",
    "* Preço à vista: 10% de desconto.\n",
    "* Cartão à vista: 5% de desconto.\n",
    "* Cartão parcelado em até 2 vezes: Dividido sem juros.\n",
    "* Cartão parcelado 3x ou mais: 20% de juros."
   ]
  },
  {
   "cell_type": "code",
   "execution_count": 8,
   "id": "4730ac97",
   "metadata": {},
   "outputs": [
    {
     "name": "stdout",
     "output_type": "stream",
     "text": [
      "Preço das compras R$: 100\n",
      "Formas de pagamento \n",
      "[ 1 ] à vista em dinheiro\n",
      "[ 2 ] à vista cartão\n",
      "[ 3 ] 2x no cartão\n",
      "[ 4 ] 3x ou mais no cartão\n",
      "Qual é a opção? 4\n",
      "Quantas parcelas? 5\n",
      "Sua compra parcelada em 5 vezes vai custar R$24.00 por mês\n",
      "Sua compra de R$100.00 vai custar R$120.00\n"
     ]
    }
   ],
   "source": [
    "preço = float(input(\"Preço das compras R$: \"))\n",
    "print(\"\"\"Formas de pagamento \n",
    "[ 1 ] à vista em dinheiro\n",
    "[ 2 ] à vista cartão\n",
    "[ 3 ] 2x no cartão\n",
    "[ 4 ] 3x ou mais no cartão\"\"\") #Crio um simples menu para decisão de pagamento.\n",
    "opção = int(input(\"Qual é a opção? \"))\n",
    "if opção == 1: # E crio meus cálculos atrelados a cada condição.\n",
    "    total = preço - (preço * 10 / 100)\n",
    "elif opção == 2:\n",
    "    total = preço - (preço * 5 / 100)\n",
    "elif opção == 3:\n",
    "    total = preço\n",
    "    parcela = total / 2\n",
    "    print(f\"Sua compra será parcelada em 2 vezes de R$ {parcela:.2f}\")\n",
    "elif opção == 4:\n",
    "    total = preço + (preço * 20 /100)\n",
    "    totparc = int(input(\"Quantas parcelas? \"))\n",
    "    parcela = total / totparc\n",
    "    print(f\"Sua compra parcelada em {totparc} vezes vai custar R${parcela:.2f} por mês\")\n",
    "else: \n",
    "    print(\"Digite um número entre as opção 1 a 4\")\n",
    "print(f\"Sua compra de R${preço:.2f} vai custar R${total:.2f}\")\n"
   ]
  },
  {
   "cell_type": "markdown",
   "id": "b7f5a010",
   "metadata": {},
   "source": [
    "## Repetições"
   ]
  },
  {
   "cell_type": "markdown",
   "id": "d424a87e",
   "metadata": {},
   "source": [
    "#### Repetições são utilizadas para executar uma tarefa diversas vezes, o comando \"for\" permite que um bloco seja executado conforme a quantidade que o usuário determinar, por exemplo:"
   ]
  },
  {
   "cell_type": "code",
   "execution_count": 4,
   "id": "93371fb2",
   "metadata": {},
   "outputs": [
    {
     "name": "stdout",
     "output_type": "stream",
     "text": [
      "1\n",
      "2\n",
      "3\n",
      "4\n",
      "5\n"
     ]
    }
   ],
   "source": [
    "for numero in range(1, 6):\n",
    "    print(numero)"
   ]
  },
  {
   "cell_type": "markdown",
   "id": "cccc816d",
   "metadata": {},
   "source": [
    "#### Nós plotamos uma quantidade de números especificados no range, poderíamos colocar o valor que quiséssemos. Temos mais variações de aplicações do for, veja:"
   ]
  },
  {
   "cell_type": "code",
   "execution_count": 6,
   "id": "552f79f8",
   "metadata": {
    "scrolled": true
   },
   "outputs": [
    {
     "name": "stdout",
     "output_type": "stream",
     "text": [
      "Início: 1\n",
      "Fim: 6\n",
      "Passo: 1\n",
      "1\n",
      "2\n",
      "3\n",
      "4\n",
      "5\n",
      "FIM\n"
     ]
    }
   ],
   "source": [
    "#Podemos automatizar o processo de range acima.\n",
    "i = int(input(\"Início: \"))\n",
    "f = int(input(\"Fim: \"))\n",
    "p = int(input(\"Passo: \"))\n",
    "for c in range (i, f, p): #estrutura de repetição\n",
    "    print(c)\n",
    "print(\"FIM\")"
   ]
  },
  {
   "cell_type": "markdown",
   "id": "56fcf611",
   "metadata": {},
   "source": [
    "#### Podemos automatizar a quantidade de entradas com o \"for\":"
   ]
  },
  {
   "cell_type": "code",
   "execution_count": 7,
   "id": "d6b51a79",
   "metadata": {},
   "outputs": [
    {
     "name": "stdout",
     "output_type": "stream",
     "text": [
      "Digite um valor: 5\n",
      "Digite um valor: 5\n",
      "Digite um valor: 5\n",
      "Digite um valor: 5\n",
      "Soma:20\n"
     ]
    }
   ],
   "source": [
    "s = 0 # Para iniciar um acumulo é necessário uma variável zerada. No nosso caso acumularemos a soma.\n",
    "for c in range(0, 4):\n",
    "    n = int(input(\"Digite um valor: \"))\n",
    "    s = s + n #Uma das estruturas para acúmulo de somatório.\n",
    "print(\"Soma:{}\".format(s))"
   ]
  },
  {
   "cell_type": "markdown",
   "id": "fb9768d4",
   "metadata": {},
   "source": [
    "#### Podemos tentar resolver mais alguns problemas com o que aprendemos até agora, dessa maneira veremos mais aplicações do \"for\" combinada com outras estruturas."
   ]
  },
  {
   "cell_type": "markdown",
   "id": "8074035e",
   "metadata": {},
   "source": [
    "#### 9º) Um código que leia um número inteiro e diga se ele é ou não um número primo."
   ]
  },
  {
   "cell_type": "code",
   "execution_count": 9,
   "id": "e9b08939",
   "metadata": {},
   "outputs": [
    {
     "name": "stdout",
     "output_type": "stream",
     "text": [
      "Digite um número: 5\n",
      "\u001b[32m1 \u001b[31m2 \u001b[31m3 \u001b[31m4 \u001b[32m5 \n",
      "\u001b[mO número 5 foi divisível 2 vezes\n",
      "E por isso ele é primo\n"
     ]
    }
   ],
   "source": [
    "núm = int(input(\"Digite um número: \"))\n",
    "tot = 0\n",
    "for c in range(1, núm + 1): #A função range não incluí o valor final especificado, ou seja precisamos inserir o \"+ 1\" para ir até o número indicado.\n",
    "    if núm % c == 0:\n",
    "        print(\"\\033[32m\", end=\"\") #Estrutura de cor no python, coloquei para diferenciar os divisíveis. Não abordaremos nesses script.\n",
    "        tot +=1 #Estrutura simplificada para acúmulo de somatório\n",
    "    else:\n",
    "        print(\"\\033[31m\", end=\"\")\n",
    "    print(\"{} \".format(c), end=\"\")\n",
    "print(\"\\n\\033[mO número {} foi divisível {} vezes\".format(núm, tot))\n",
    "if tot == 2:\n",
    "    print(\"E por isso ele é primo\")\n",
    "else:\n",
    "    print(\"E por isso não é primo\")\n",
    "    "
   ]
  },
  {
   "cell_type": "markdown",
   "id": "9a9ac9a2",
   "metadata": {},
   "source": [
    "#### 10º) Um programa que guarde informações de nome, idade e sexo de quatro pessoas e mostre como resultado a média de idade dos grupos, qual é o nome do homem mais velho e quantas mulheres têm menos de 18 anos."
   ]
  },
  {
   "cell_type": "code",
   "execution_count": 4,
   "id": "e8746960",
   "metadata": {},
   "outputs": [
    {
     "name": "stdout",
     "output_type": "stream",
     "text": [
      "----1ª PESSOA----\n",
      "Nome: João\n",
      "Idade: 35\n",
      "Sexo [M/F]: M\n",
      "----2ª PESSOA----\n",
      "Nome: Maria\n",
      "Idade: 16\n",
      "Sexo [M/F]: F\n",
      "----3ª PESSOA----\n",
      "Nome: Kleber\n",
      "Idade: 18\n",
      "Sexo [M/F]: M\n",
      "----4ª PESSOA----\n",
      "Nome: Helena\n",
      "Idade: 17\n",
      "Sexo [M/F]: F\n",
      "A média de idade é de 21.5 anos\n",
      "O homem mais velho tem 35 anos\n",
      "Ao todo são 2 mulheres com menos de 18 anos\n"
     ]
    }
   ],
   "source": [
    "somaidade = 0\n",
    "médiaidade = 0\n",
    "maioridadehomem = 0\n",
    "nomevelho = \"\"\n",
    "totmulher18 = 0 #Inseri várias variáveis para acumular dados.\n",
    "for p in range(1, 5): #Repetição de 1 a 4 conforme explicado anteriormente.\n",
    "    print(\"----{}ª PESSOA----\".format(p)) #indexo a atribuição da pessoa ao range.\n",
    "    nome = str(input(\"Nome: \")).strip() \n",
    "    idade = int(input(\"Idade: \"))\n",
    "    sexo = str(input(\"Sexo [M/F]: \")).strip()\n",
    "    somaidade += idade #Somatório simplificado\n",
    "    if p == 1 and sexo in \"Mm\": #Seja qual for a forma que o usuário inserir será atendido o sexo masculino.\n",
    "        maioridadehomem = idade #Aqui eu inseri que qualquer nome masculino inserido seria a maior idade\n",
    "        nomevelho = nome #E a variável nomevelho irá receber o nome masculino que eu inseri.\n",
    "    if sexo in \"Mm\" and idade > maioridadehomem: #Mas essa condição é interessante pois se aparecer qualquer idade maior que a anterior\n",
    "        maioridadehomem = idade #será substituído o nome do mais velho na variável \"nomevelho\".\n",
    "        nomevelho = nome\n",
    "    if sexo in \"Ff\" and idade <18: #Condição única feminina de ser menor que 18 anos.\n",
    "        totmulher18 += 1\n",
    "médiaidade = somaidade / 4 #Média das idades\n",
    "print(f\"A média de idade é de {médiaidade} anos\")\n",
    "print(f\"O homem mais velho tem {maioridadehomem} anos\")\n",
    "print(f\"Ao todo são {totmulher18} mulheres com menos de 18 anos\")"
   ]
  },
  {
   "cell_type": "markdown",
   "id": "c6c06ce7",
   "metadata": {},
   "source": [
    "#### Já o comando \"while\" tem características parecidas com o \"for\" a diferença é que a finalização da repetição no \"while\" é determinada por uma condição ou um comando chamado \"break\". por exemplo a condição dada abaixo foi o x ser menor que 10, ou seja vai se repetir a soma do x até chegar ao 10."
   ]
  },
  {
   "cell_type": "code",
   "execution_count": 13,
   "id": "aa6f39fa",
   "metadata": {},
   "outputs": [
    {
     "name": "stdout",
     "output_type": "stream",
     "text": [
      "1\n",
      "2\n",
      "3\n",
      "4\n",
      "5\n",
      "6\n",
      "7\n",
      "8\n",
      "9\n",
      "10\n"
     ]
    }
   ],
   "source": [
    "x=1\n",
    "while x<=10:\n",
    "    print(x)\n",
    "    x=x+1"
   ]
  },
  {
   "cell_type": "code",
   "execution_count": 17,
   "id": "b2ba2699",
   "metadata": {},
   "outputs": [
    {
     "name": "stdout",
     "output_type": "stream",
     "text": [
      "Digite o último número da repetição: 10\n",
      "0\n",
      "3\n",
      "6\n",
      "9\n"
     ]
    }
   ],
   "source": [
    "fim=int(input(\"Digite o último número da repetição: \"))\n",
    "x=0\n",
    "while x <= fim: #Condicionamos a parada do somatório até o input inserido, no caso até 10.\n",
    "    if x % 3 == 0: # Inseri uma condição na estrutura while, pedi números múltiplos de 3, ou seja que o resultado da divisão por 3 seja 0\n",
    "        print(x)\n",
    "    x=x+1"
   ]
  },
  {
   "cell_type": "markdown",
   "id": "3959f2bb",
   "metadata": {},
   "source": [
    "#### Podemos resolver alguns problemas com as estruturas \"while\", resoluções muito mais elaboradas."
   ]
  },
  {
   "cell_type": "markdown",
   "id": "3f813564",
   "metadata": {},
   "source": [
    "#### 11º) Um programa de um banco que pergunte o depósito inicial, a taxa de juros mensal, e exiba a evolução do patrimônio mês a mês por um determinado período."
   ]
  },
  {
   "cell_type": "code",
   "execution_count": 20,
   "id": "5958c360",
   "metadata": {
    "scrolled": false
   },
   "outputs": [
    {
     "name": "stdout",
     "output_type": "stream",
     "text": [
      "Depósito inicial: 5000\n",
      "Taxa de juros a.m: 1\n",
      "Digite o mês: 10\n",
      "Mês 1 5050.0\n",
      "Mês 2 5100.5\n",
      "Mês 3 5151.51\n",
      "Mês 4 5203.03\n",
      "Mês 5 5255.06\n",
      "Mês 6 5307.61\n",
      "Mês 7 5360.69\n",
      "Mês 8 5414.3\n",
      "Mês 9 5468.44\n",
      "Mês 10 5523.12\n",
      "Juros:R$ 523.11\n"
     ]
    }
   ],
   "source": [
    "Deposito=float(input(\"Depósito inicial: \")) #Inserção de dados através do input\n",
    "Txdejuros=float(input(\"Taxa de juros a.m: \"))\n",
    "tempo=float(input(\"Digite o mês: \"))\n",
    "Jurosacum = 0\n",
    "x=1\n",
    "while x<= tempo: #Condição de parada é o tempo digitado no input.\n",
    "    Juros=Deposito*(Txdejuros/100)\n",
    "    Deposito=round(Deposito+Juros,2) #O comando round, arredonda, o número 2 é a quantidade de casas decimais.\n",
    "    Jurosacum= round(Jurosacum + Juros,2)\n",
    "    print(\"Mês\", x, Deposito) #Print do acumulado no depósito a cada mês.\n",
    "    x=x+1\n",
    "print(\"Juros:R$\",Jurosacum)"
   ]
  },
  {
   "cell_type": "markdown",
   "id": "8ae265f4",
   "metadata": {},
   "source": [
    "#### 12º) Considerando mesmo problema anterior agora podemos também inserir aportes mensais no valor principal."
   ]
  },
  {
   "cell_type": "code",
   "execution_count": 3,
   "id": "80fffe06",
   "metadata": {},
   "outputs": [
    {
     "name": "stdout",
     "output_type": "stream",
     "text": [
      "Depósito inicial: 5000\n",
      "Taxa de juros a.m: 1\n",
      "Digite o mês: 10\n",
      "Valor depositado no mês 1: 500\n",
      "Mês 1 5555.0\n",
      "Valor depositado no mês 2: 100\n",
      "Mês 2 5711.55\n",
      "Valor depositado no mês 3: 200\n",
      "Mês 3 5970.67\n",
      "Valor depositado no mês 4: 300\n",
      "Mês 4 6333.38\n",
      "Valor depositado no mês 5: 400\n",
      "Mês 5 6800.71\n",
      "Valor depositado no mês 6: 500\n",
      "Mês 6 7373.72\n",
      "Valor depositado no mês 7: 800\n",
      "Mês 7 8255.46\n",
      "Valor depositado no mês 8: 100\n",
      "Mês 8 8439.01\n",
      "Valor depositado no mês 9: 100\n",
      "Mês 9 8624.4\n",
      "Valor depositado no mês 10: 200\n",
      "Mês 10 8912.64\n",
      "Juros:R$ 712.64\n"
     ]
    }
   ],
   "source": [
    "Deposito=float(input(\"Depósito inicial: \")) #Inserção de dados através do input\n",
    "Txdejuros=float(input(\"Taxa de juros a.m: \"))\n",
    "tempo=float(input(\"Digite o mês: \"))\n",
    "Jurosacum = 0\n",
    "x=1\n",
    "while x<= tempo:\n",
    "    Deposito_mensal=float(input(f\"Valor depositado no mês {x}: \"))\n",
    "    Deposito=round(Deposito+Deposito_mensal,2)\n",
    "    Juros=Deposito*(Txdejuros/100)\n",
    "    Deposito=round(Deposito+Juros,2)\n",
    "    Jurosacum= round(Jurosacum + Juros,2)\n",
    "    print(\"Mês\", x, Deposito)\n",
    "    x=x+1\n",
    "print(\"Juros:R$\",Jurosacum)"
   ]
  },
  {
   "cell_type": "markdown",
   "id": "861faadd",
   "metadata": {},
   "source": [
    "#### 13º) Escreva um programa que pergunte o valor inicial de uma dívida e o juros mensal. Pergunte também o valor mensal que será pago. Imprima o número de meses para que a dívida seja paga, o total pago e o total de juros pago."
   ]
  },
  {
   "cell_type": "code",
   "execution_count": 2,
   "id": "18fa8d31",
   "metadata": {},
   "outputs": [
    {
     "name": "stdout",
     "output_type": "stream",
     "text": [
      "Digite o valor da dívida: R$ 5000\n",
      "Digite o juros mensal (%): 1\n",
      "Digite o valor mensal que será pago: R$ 500\n",
      "Mês 1: dívida = R$4550.00, juros = R$50.00, abatimento = R$500.00\n",
      "Mês 2: dívida = R$4095.50, juros = R$45.50, abatimento = R$500.00\n",
      "Mês 3: dívida = R$3636.45, juros = R$40.95, abatimento = R$500.00\n",
      "Mês 4: dívida = R$3172.82, juros = R$36.36, abatimento = R$500.00\n",
      "Mês 5: dívida = R$2704.55, juros = R$31.73, abatimento = R$500.00\n",
      "Mês 6: dívida = R$2231.59, juros = R$27.05, abatimento = R$500.00\n",
      "Mês 7: dívida = R$1753.91, juros = R$22.32, abatimento = R$500.00\n",
      "Mês 8: dívida = R$1271.45, juros = R$17.54, abatimento = R$500.00\n",
      "Mês 9: dívida = R$784.16, juros = R$12.71, abatimento = R$500.00\n",
      "Mês 10: dívida = R$292.00, juros = R$7.84, abatimento = R$500.00\n",
      "Mês 11: dívida = R$0.00, juros = R$2.92, abatimento = R$294.92\n",
      "A dívida será paga em 11 meses\n",
      "Total pago: R$ 5294.92\n",
      "Total de juros pago: R$ 294.92\n"
     ]
    }
   ],
   "source": [
    "divida = float(input(\"Digite o valor da dívida: R$ \"))  #Inserção de dados através do input\n",
    "juros = float(input(\"Digite o juros mensal (%): \"))\n",
    "pagamento_mensal = float(input(\"Digite o valor mensal que será pago: R$ \"))\n",
    "meses = 0\n",
    "total_pago = 0\n",
    "total_juros = 0 #Inseri várias variáveis iniciando no zero para acumular dados.\n",
    "while divida > 0: #Enquanto a dívida for maior que zero ou seja possuir dívidas rodará o programa abaixo.\n",
    "    juros_mes = divida * (juros / 100) #Cálculo do juros do mês \n",
    "    divida += juros_mes  #dívida acumulada com juros\n",
    "    abatimento = min(pagamento_mensal, divida) #A variável abatimento foi adicionada e recebe o valor mínimo entre o valor do pagamento mensal e o valor da dívida restante. Isso garante que o pagamento mensal não será maior do que a dívida.\n",
    "    divida -= abatimento #abatimento da dívida com pagamento mensal\n",
    "    meses += 1 #Acúmulo de meses\n",
    "    total_pago += abatimento #Acúmulo de abatimentos pagos\n",
    "    total_juros += juros_mes  #Acúmulo de juros\n",
    "    if divida < 0: #Quando a dívida for menor que zero rodara o programa abaixo zerando a dívida\n",
    "        total_pago += divida\n",
    "        divida = 0\n",
    "    print(f\"Mês {meses}: dívida = R${divida:.2f}, juros = R${juros_mes:.2f}, abatimento = R${abatimento:.2f}\") #E por fim plotar todos resultados. \n",
    "print(\"A dívida será paga em\", meses, \"meses\")\n",
    "print(\"Total pago: R$\", round(total_pago, 2))\n",
    "print(\"Total de juros pago: R$\", round(total_juros, 2))"
   ]
  },
  {
   "cell_type": "markdown",
   "id": "0567050a",
   "metadata": {},
   "source": [
    "#### 14º) Crie um programa que leia dois valores e mostre um menu que realizará a operação solicitada:\n",
    "#### [1] somar\n",
    "#### [2] multiplicar\n",
    "#### [3] maior\n",
    "#### [4] novos números\n",
    "#### [5] sair do programa"
   ]
  },
  {
   "cell_type": "code",
   "execution_count": 14,
   "id": "3f6ed47a",
   "metadata": {},
   "outputs": [
    {
     "name": "stdout",
     "output_type": "stream",
     "text": [
      "Digite um valor: 5\n",
      "Digite um valor: 6\n",
      "Digite uma opção: \n",
      "[ 1 ] somar\n",
      "[ 2 ] multiplicar\n",
      "[ 3 ] maior\n",
      "[ 4 ] digitar novos números\n",
      "[ 5 ] sair do programa. \n",
      "Digite uma opção: 3\n",
      "O maior número é 6.0\n",
      "Digite uma opção: \n",
      "[ 1 ] somar\n",
      "[ 2 ] multiplicar\n",
      "[ 3 ] maior\n",
      "[ 4 ] digitar novos números\n",
      "[ 5 ] sair do programa. \n",
      "Digite uma opção: 5\n",
      "Fim do programa\n"
     ]
    }
   ],
   "source": [
    "n1 = float(input(\"Digite um valor: \"))\n",
    "n2 = float(input(\"Digite um valor: \"))\n",
    "opção = 0\n",
    "while opção != 5: #Os códigos abaixo irão rodar se a opção for diferente de 5\n",
    "    print(\"\"\"Digite uma opção: \n",
    "[ 1 ] somar\n",
    "[ 2 ] multiplicar\n",
    "[ 3 ] maior\n",
    "[ 4 ] digitar novos números\n",
    "[ 5 ] sair do programa. \"\"\")\n",
    "    opção = int(input(\"Digite uma opção: \"))\n",
    "    if opção == 1:\n",
    "        soma = n1 + n2\n",
    "        print(f\"A soma dos números é {soma:.2f}\")\n",
    "    elif opção == 2:\n",
    "        mult = n1 * n2\n",
    "        print(f\"A multiplicação dos números é {mult:.2f}\")\n",
    "    elif opção == 3:\n",
    "        if n1 > n2:\n",
    "            print(f\"O maior número é {n1}\")\n",
    "        else:      \n",
    "            print(f\"O maior número é {n2}\") \n",
    "    elif opção == 4:\n",
    "        print(\"Informe os números novamente:\")\n",
    "        n1 = float(input(\"Digite um valor: \"))\n",
    "        n2 = float(input(\"Digite um valor: \")) #Até aqui repete-se a mesma estrutura vista no caso de menu anterior\n",
    "    elif opção == 5: #A diferença é que acrescentamos uma condição de termino chamada \"break\" com ela podemos finalizar o while de forma eficiente.\n",
    "        break\n",
    "    else:\n",
    "        print(\"Digite uma alternativa entre 1 e 5: \")\n",
    "print(\"Fim do programa\")       \n",
    "   "
   ]
  },
  {
   "cell_type": "markdown",
   "id": "1709bab9",
   "metadata": {},
   "source": [
    "#### 15º) Criar uma tabuada."
   ]
  },
  {
   "cell_type": "code",
   "execution_count": 1,
   "id": "f16b0185",
   "metadata": {},
   "outputs": [
    {
     "name": "stdout",
     "output_type": "stream",
     "text": [
      "Que ver a tabuada de qual valor? 7\n",
      "7 x 1 = 7\n",
      "7 x 2 = 14\n",
      "7 x 3 = 21\n",
      "7 x 4 = 28\n",
      "7 x 5 = 35\n",
      "7 x 6 = 42\n",
      "7 x 7 = 49\n",
      "7 x 8 = 56\n",
      "7 x 9 = 63\n",
      "7 x 10 = 70\n",
      "Que ver a tabuada de qual valor? -1\n",
      "Programa encerrado\n"
     ]
    }
   ],
   "source": [
    "while True: #Com essa condição ativada com True tudo abaixo criar repetição\n",
    "  n = int(input(\"Que ver a tabuada de qual valor? \"))\n",
    "  if n < 0: #mas podemos criar uma condição de parada com o break, ou seja números negativos encerram o programa.\n",
    "    break\n",
    "  for c in range(1, 11):\n",
    "    print(f'{n} x {c} = {n*c}')\n",
    "print(\"Programa encerrado\")"
   ]
  },
  {
   "cell_type": "markdown",
   "id": "358ec96a",
   "metadata": {},
   "source": [
    "#### 16º) Criar um programa que leia nome e preço de diversos produtos e no fim mostre o gasto total, quantos produtos estiveram acima de R$1.000,00 e qual é o produto mais barato."
   ]
  },
  {
   "cell_type": "code",
   "execution_count": 3,
   "id": "2c3ff7dc",
   "metadata": {},
   "outputs": [
    {
     "name": "stdout",
     "output_type": "stream",
     "text": [
      "Nome do produto: Notebook\n",
      "Preço: R$5000\n",
      "Quer continuar? [S/N]s\n",
      "Nome do produto: lápis\n",
      "Preço: R$3.50\n",
      "Quer continuar? [S/N]s\n",
      "Nome do produto: Caderno\n",
      "Preço: R$23.25\n",
      "Quer continuar? [S/N]s\n",
      "Nome do produto: Livro\n",
      "Preço: R$75\n",
      "Quer continuar? [S/N]n\n",
      "----------- Fim do programa ------------\n",
      "O total da compra foi R$5101.75\n",
      "Temos 1 produtos custando mais de R$1000.00\n",
      "O produto mais barato foi lápis que custa R$3.50\n"
     ]
    }
   ],
   "source": [
    "total = totmil = menor = cont = 0 #Condicionei todas variáveis ao início 0\n",
    "barato = \"\"\n",
    "while True:\n",
    "    produto = str(input(\"Nome do produto: \"))\n",
    "    preço = float(input(\"Preço: R$\"))\n",
    "    cont += 1\n",
    "    total += preço\n",
    "    if preço > 1000:\n",
    "        totmil +=1\n",
    "    if cont == 1 or preço < menor: #or as duas condições podem ser atendidas\n",
    "        menor = preço\n",
    "        barato = produto\n",
    "    resp = \" \"\n",
    "    while resp not in \"SN\":\n",
    "        resp = str(input(\"Quer continuar? [S/N]\" )).strip().upper()[0]\n",
    "    if resp == \"N\":\n",
    "        break\n",
    "print(\"{:-^40}\".format(\" Fim do programa \"))\n",
    "print(f\"O total da compra foi R${total:.2f}\")\n",
    "print(f\"Temos {totmil} produtos custando mais de R$1000.00\")\n",
    "print(f\"O produto mais barato foi {barato} que custa R${menor:.2f}\")"
   ]
  },
  {
   "cell_type": "markdown",
   "id": "493c2905",
   "metadata": {},
   "source": [
    "#### 17º) Criar um caixa eletrônico"
   ]
  },
  {
   "cell_type": "code",
   "execution_count": 6,
   "id": "db377183",
   "metadata": {},
   "outputs": [
    {
     "name": "stdout",
     "output_type": "stream",
     "text": [
      "     SILICON VALLEY BANK      \n",
      "Que valor você quer sacar? R$3735\n",
      "Total de 18 cédulas de $200\n",
      "Total de 1 cédulas de $100\n",
      "Total de 1 cédulas de $20\n",
      "Total de 1 cédulas de $10\n",
      "Total de 1 cédulas de $5\n",
      "Volte sempre ao SILICON VALLEY BANK!\n"
     ]
    }
   ],
   "source": [
    "print(\"{:^30}\".format(\"SILICON VALLEY BANK\")) # '^' Permite centralização \n",
    "valor = int(input(\"Que valor você quer sacar? R$\")) # Solicita ao usuário o valor que ele deseja sacar.\n",
    "total = valor\n",
    "céd = 200 #é inicializada com o valor da maior cédula disponível\n",
    "totcéd = 0 #é inicializada com o valor zero e será utilizada para contar o número de cédulas de um determinado valor.\n",
    "while True: # será executado infinitamente, até que o valor total seja sacado completamente e a condição de saída seja atingida.\n",
    "    if total >= céd:\n",
    "        total -= céd\n",
    "        totcéd += 1\n",
    "    else:\n",
    "        if totcéd > 0:\n",
    "            print(f\"Total de {totcéd} cédulas de ${céd}\")\n",
    "        if céd == 200: # Dentro do loop, a verificação é feita para cada cédula disponível (começando \n",
    "            céd = 100 # com a de maior valor, R$200), e se a quantidade total for maior ou igual ao valor da cédula, \n",
    "        elif céd == 100: # então uma cédula é retirada do valor total e a variável totcéd é incrementada.\n",
    "            céd = 50                 \n",
    "        elif céd == 50:\n",
    "            céd = 20\n",
    "        elif céd == 20:\n",
    "            céd = 10\n",
    "        elif céd == 10:\n",
    "            céd = 5\n",
    "        elif céd == 5:\n",
    "            céd = 1\n",
    "        totcéd = 0\n",
    "        if total == 0: # O loop é encerrado quando o valor total for igual a zero.\n",
    "            break \n",
    "print(\"Volte sempre ao SILICON VALLEY BANK!\")"
   ]
  },
  {
   "cell_type": "code",
   "execution_count": null,
   "id": "b1d2c1e0",
   "metadata": {},
   "outputs": [],
   "source": [
    "\n"
   ]
  },
  {
   "cell_type": "code",
   "execution_count": null,
   "id": "36279ac1",
   "metadata": {},
   "outputs": [],
   "source": []
  },
  {
   "cell_type": "code",
   "execution_count": null,
   "id": "e400b33a",
   "metadata": {},
   "outputs": [],
   "source": []
  },
  {
   "cell_type": "code",
   "execution_count": null,
   "id": "2fe01b94",
   "metadata": {},
   "outputs": [],
   "source": []
  }
 ],
 "metadata": {
  "colab": {
   "provenance": []
  },
  "kernelspec": {
   "display_name": "Python 3 (ipykernel)",
   "language": "python",
   "name": "python3"
  },
  "language_info": {
   "codemirror_mode": {
    "name": "ipython",
    "version": 3
   },
   "file_extension": ".py",
   "mimetype": "text/x-python",
   "name": "python",
   "nbconvert_exporter": "python",
   "pygments_lexer": "ipython3",
   "version": "3.9.12"
  }
 },
 "nbformat": 4,
 "nbformat_minor": 5
}
